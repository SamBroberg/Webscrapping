{
 "cells": [
  {
   "cell_type": "markdown",
   "metadata": {},
   "source": [
    "# Module 5 Homework - Let's Get Lunch\n",
    "\n",
    "Suppose we are looking for a good place for lunch on our next trip to La Crosse. Let's collect some data on nearby restaurants."
   ]
  },
  {
   "cell_type": "markdown",
   "metadata": {},
   "source": [
    "## <font color=\"red\"> Problem 1 </font>\n",
    "\n",
    "Goto yelp.com and perform a search with the following parameters\n",
    "\n",
    "* **Find** Restaurants\n",
    "* **Near** La Crosse, WI\n",
    "\n",
    "**Tasks**\n",
    "1. Copy the resulting web address below and determine the how the     specified search terms related to the resulting address\n",
    "2. Use requests and Beautiful Soap to download the content of the front page."
   ]
  },
  {
   "cell_type": "code",
   "execution_count": 1,
   "metadata": {},
   "outputs": [
    {
     "name": "stdout",
     "output_type": "stream",
     "text": [
      "Requirement already satisfied: composable in /home/pc7482yh/.pyenv/versions/anaconda3-2020.02/lib/python3.7/site-packages (0.2.5)\n",
      "Requirement already satisfied: toolz<0.12.0,>=0.11.1 in /home/pc7482yh/.pyenv/versions/anaconda3-2020.02/lib/python3.7/site-packages (from composable) (0.11.1)\n",
      "Requirement already satisfied: python-forge<19.0,>=18.6 in /home/pc7482yh/.pyenv/versions/anaconda3-2020.02/lib/python3.7/site-packages (from composable) (18.6.0)\n",
      "Requirement already satisfied: composablesoup in /home/pc7482yh/.pyenv/versions/anaconda3-2020.02/lib/python3.7/site-packages (0.2.4)\n",
      "Requirement already satisfied: beautifulsoup4<5.0.0,>=4.9.3 in /home/pc7482yh/.pyenv/versions/anaconda3-2020.02/lib/python3.7/site-packages (from composablesoup) (4.9.3)\n",
      "Requirement already satisfied: python-forge<19.0,>=18.6 in /home/pc7482yh/.pyenv/versions/anaconda3-2020.02/lib/python3.7/site-packages (from composablesoup) (18.6.0)\n",
      "Requirement already satisfied: composable<0.3.0,>=0.2.0 in /home/pc7482yh/.pyenv/versions/anaconda3-2020.02/lib/python3.7/site-packages (from composablesoup) (0.2.5)\n",
      "Requirement already satisfied: soupsieve>1.2; python_version >= \"3.0\" in /home/pc7482yh/.pyenv/versions/anaconda3-2020.02/lib/python3.7/site-packages (from beautifulsoup4<5.0.0,>=4.9.3->composablesoup) (1.9.5)\n",
      "Requirement already satisfied: toolz<0.12.0,>=0.11.1 in /home/pc7482yh/.pyenv/versions/anaconda3-2020.02/lib/python3.7/site-packages (from composable<0.3.0,>=0.2.0->composablesoup) (0.11.1)\n",
      "Requirement already up-to-date: composable in /home/pc7482yh/.pyenv/versions/anaconda3-2020.02/lib/python3.7/site-packages (0.2.5)\n",
      "Requirement already satisfied, skipping upgrade: toolz<0.12.0,>=0.11.1 in /home/pc7482yh/.pyenv/versions/anaconda3-2020.02/lib/python3.7/site-packages (from composable) (0.11.1)\n",
      "Requirement already satisfied, skipping upgrade: python-forge<19.0,>=18.6 in /home/pc7482yh/.pyenv/versions/anaconda3-2020.02/lib/python3.7/site-packages (from composable) (18.6.0)\n",
      "Requirement already up-to-date: composablesoup in /home/pc7482yh/.pyenv/versions/anaconda3-2020.02/lib/python3.7/site-packages (0.2.4)\n",
      "Requirement already satisfied, skipping upgrade: python-forge<19.0,>=18.6 in /home/pc7482yh/.pyenv/versions/anaconda3-2020.02/lib/python3.7/site-packages (from composablesoup) (18.6.0)\n",
      "Requirement already satisfied, skipping upgrade: composable<0.3.0,>=0.2.0 in /home/pc7482yh/.pyenv/versions/anaconda3-2020.02/lib/python3.7/site-packages (from composablesoup) (0.2.5)\n",
      "Requirement already satisfied, skipping upgrade: beautifulsoup4<5.0.0,>=4.9.3 in /home/pc7482yh/.pyenv/versions/anaconda3-2020.02/lib/python3.7/site-packages (from composablesoup) (4.9.3)\n",
      "Requirement already satisfied, skipping upgrade: toolz<0.12.0,>=0.11.1 in /home/pc7482yh/.pyenv/versions/anaconda3-2020.02/lib/python3.7/site-packages (from composable<0.3.0,>=0.2.0->composablesoup) (0.11.1)\n",
      "Requirement already satisfied, skipping upgrade: soupsieve>1.2; python_version >= \"3.0\" in /home/pc7482yh/.pyenv/versions/anaconda3-2020.02/lib/python3.7/site-packages (from beautifulsoup4<5.0.0,>=4.9.3->composablesoup) (1.9.5)\n"
     ]
    }
   ],
   "source": [
    "# Install if needed\n",
    "!pip install composable\n",
    "!pip install composablesoup\n",
    "# Check for upgrade is already installed\n",
    "!pip install composable --upgrade\n",
    "!pip install composablesoup --upgrade\n",
    "from composable import pipeable\n",
    "from composable.strict import map, filter\n",
    "from composablesoup import find, find_all, get_text, has_attr\n",
    "from composablesoup.soup import find_parent, parents, children, find_previous_sibling, find_previous_siblings, find_next_sibling, find_next_siblings, find_previous_sibling\n",
    "from composable.sequence import to_list, head\n",
    "from composable.string import strip,replace, split\n",
    "from composable import from_toolz as tlz"
   ]
  },
  {
   "cell_type": "code",
   "execution_count": 2,
   "metadata": {},
   "outputs": [],
   "source": [
    "import requests\n",
    "from bs4 import BeautifulSoup\n",
    "s = requests.Session()\n",
    "r = s.get('https://www.yelp.com/search?cflt=restaurants&find_loc=LaCrosse%2C%20Wi')\n",
    "restaurants = BeautifulSoup(r.content, 'html.parser')"
   ]
  },
  {
   "cell_type": "markdown",
   "metadata": {
    "collapsed": true
   },
   "source": [
    "## <font color=\"red\"> Problem 2 </font>\n",
    "\n",
    "We want to grab the restaurant's name.\n",
    "\n",
    "1. Use Inspect Element to determine the tags/classes for each of the elements listed above.  \n",
    "2. Note that all the business information is contained in a`div` that contains a class similar to  `<div class=\" ... businessName__09f24__3Wql2 ...\">`.  You will need to use a regular expression to match the `businessName` in the class (see lecture 5.3).\n",
    "3. Write expressions/functions to pull out the name of each restaurant.  \n",
    "    * Note: The business name is in an unnamed tag, you will need to navigate to the using searches and/or relationship\n",
    " \n",
    "**Confirm that there is an extra restaurant in the list (e.g. 11-12 instead of 10). This is due to an advertisement/sponsered links, which we want to ignore.**"
   ]
  },
  {
   "cell_type": "code",
   "execution_count": 7,
   "metadata": {},
   "outputs": [],
   "source": [
    "import re\n",
    "not_empty = re.compile(r'.+')\n",
    "restaurant_name = (restaurants\n",
    ">> find_all(\"a\",attrs={'name': not_empty})\n",
    ">> map(tlz.get('name'))\n",
    ")"
   ]
  },
  {
   "cell_type": "code",
   "execution_count": 8,
   "metadata": {},
   "outputs": [
    {
     "data": {
      "text/plain": [
       "['Papa Murphy’s',\n",
       " 'The Waterfront Restaurant & Tavern',\n",
       " 'Restore Public House',\n",
       " 'Buzzard Billy’s',\n",
       " 'Lovechild Restaurant',\n",
       " 'The Charmant',\n",
       " 'The Freighthouse Restaurant',\n",
       " 'Howie’s on La Crosse',\n",
       " 'Piggy’s Restaurant',\n",
       " 'The Crow',\n",
       " 'Schuby’s Neighborhood Butcher']"
      ]
     },
     "execution_count": 8,
     "metadata": {},
     "output_type": "execute_result"
    }
   ],
   "source": [
    "restaurant_name"
   ]
  },
  {
   "cell_type": "code",
   "execution_count": null,
   "metadata": {},
   "outputs": [],
   "source": []
  },
  {
   "cell_type": "code",
   "execution_count": null,
   "metadata": {},
   "outputs": [],
   "source": []
  },
  {
   "cell_type": "code",
   "execution_count": null,
   "metadata": {},
   "outputs": [],
   "source": []
  },
  {
   "cell_type": "code",
   "execution_count": null,
   "metadata": {},
   "outputs": [],
   "source": []
  },
  {
   "cell_type": "code",
   "execution_count": null,
   "metadata": {},
   "outputs": [],
   "source": []
  },
  {
   "cell_type": "markdown",
   "metadata": {},
   "source": [
    "## <font color=\"red\"> Problem 3 </font>\n",
    "\n",
    "Since we picked up extra information, we will need to be clever about identifying the information block for each restaurant.  Note that all of the actual search results (but not sponsered links) start with the ranking (e.g. `11.`).  Use the following steps to get a list that contains the information for each restaurant other than the adds.\n",
    "\n",
    "1. Start by finding the ranking of the restaurant (1., 2., etc.). **Hint:** You will need to use regular expression to match the text of the tag (see lecture 5.3).\n",
    "2. Now search for a parent of the above tags that surrounds all of the restaurant information.  You will want to use the `find_parent` method on each of the tags from **1.**.  **Hint:** Look through each of the `div` tags that contain the ranking, looking for a meaningful tag name to match with a regular expression.\n",
    "\n",
    "The resulting list will be the starting point for gathering all of the information."
   ]
  },
  {
   "cell_type": "code",
   "execution_count": 22,
   "metadata": {},
   "outputs": [
    {
     "data": {
      "text/plain": [
       "[<a class=\"link__09f24__1kwXV logo-link__09f24__3oxr_ link-color--blue-dark__09f24__2DRa0 link-size--default__09f24__3xWLF\" href=\"/\" name=\"\" rel=\"\" role=\"link\" target=\"\">Yelp</a>,\n",
       " <a class=\"button__09f24__1hAjX secondary__09f24__3mm8J find-near-button__09f24__UO8nW\" data-testid=\"responsive-suggest-submit\" href=\"#\" style=\"--mousedown-x:0px;--mousedown-y:0px;--button-width:0px\"><div class=\"button-content__09f24__2SF6G border-color--default__09f24__R1nRO\"><span class=\"text__09f24__2tZKC button-content-text__09f24__3OonI text-color--inherit__09f24__1jgBv text-align--center__09f24__3NO89 text-weight--semibold__09f24__MTlNc text-size--large__09f24__3-9KJ text--truncated__09f24__2NCmr\">Cancel</span></div></a>,\n",
       " <a class=\"header-link__09f24__3OkYO\" href=\"/advertise/consumer_header_redirect\"><div class=\"padding-t1__09f24__2GVpG padding-r1__09f24__23Vay padding-b1__09f24__1d8yO padding-l1__09f24__aqYTU border-color--default__09f24__R1nRO\"><div class=\"notification-wrapper__09f24__3YKGg display--inline-block__09f24__FsgS4 border-color--default__09f24__R1nRO\"><p class=\"text__09f24__2tZKC text-color--normal__09f24__3oebo text-align--left__09f24__3Drs0 text-weight--semibold__09f24__MTlNc\">For Businesses</p></div></div></a>,\n",
       " <a class=\"header-link__09f24__3OkYO\" href=\"/writeareview\"><div class=\"padding-t1__09f24__2GVpG padding-r1__09f24__23Vay padding-b1__09f24__1d8yO padding-l1__09f24__aqYTU border-color--default__09f24__R1nRO\"><div class=\"notification-wrapper__09f24__3YKGg display--inline-block__09f24__FsgS4 border-color--default__09f24__R1nRO\"><p class=\"text__09f24__2tZKC text-color--normal__09f24__3oebo text-align--left__09f24__3Drs0 text-weight--semibold__09f24__MTlNc\">Write a Review</p></div></div></a>,\n",
       " <a class=\"button__09f24__1hAjX secondary__09f24__3mm8J\" href=\"/login?return_url=https://www.yelp.com/search?cflt=restaurants&amp;find_loc=LaCrosse%2C%20Wi\" style=\"--mousedown-x:0px;--mousedown-y:0px;--button-width:0px\"><div class=\"button-content__09f24__2SF6G border-color--default__09f24__R1nRO\"><span class=\"text__09f24__2tZKC button-content-text__09f24__3OonI text-color--inherit__09f24__1jgBv text-align--center__09f24__3NO89 text-weight--semibold__09f24__MTlNc text-size--large__09f24__3-9KJ text--truncated__09f24__2NCmr\">Log In</span></div></a>,\n",
       " <a class=\"button__09f24__1hAjX primary__09f24__LBFK2 hide-below-b__09f24__Rnoc8\" href=\"/signup?return_url=https://www.yelp.com/search?cflt=restaurants&amp;find_loc=LaCrosse%2C%20Wi\" style=\"--mousedown-x:0px;--mousedown-y:0px;--button-width:0px\"><div class=\"button-content__09f24__2SF6G border-color--default__09f24__R1nRO\"><span class=\"text__09f24__2tZKC button-content-text__09f24__3OonI text-color--inherit__09f24__1jgBv text-align--center__09f24__3NO89 text-weight--semibold__09f24__MTlNc text-size--large__09f24__3-9KJ text--truncated__09f24__2NCmr\">Sign Up</span></div></a>,\n",
       " <a class=\"header-link_anchor__09f24__2I27Q\" href=\"/search?cflt=restaurants&amp;find_loc=LaCrosse%2C%20Wi\" tabindex=\"0\"><span class=\"text__09f24__2tZKC text-color--normal__09f24__3oebo text-align--left__09f24__3Drs0\">Restaurants</span><span class=\"display--inline__09f24__3iACj padding-l1__09f24__aqYTU border-color--default__09f24__R1nRO\"><style data-emotion-css=\"1mpk29p\">.css-1mpk29p{width:24px;height:24px;display:inline-block;vertical-align:middle;position:relative;overflow:hidden;top:-0.1em;fill:rgba(43,39,60,1);}.css-1mpk29p::before{position:absolute;display:block;left:0;}.css-1mpk29p::after{content:'';display:block;position:absolute;left:0;right:0;top:0;bottom:0;}.css-1mpk29p svg{position:absolute;width:100%;height:100%;fill:inherit;display:block;left:0;top:0;right:0;bottom:0;}</style><span aria-hidden=\"true\" class=\"icon--24-chevron-down-v2 css-1mpk29p\"><svg class=\"icon_svg\" height=\"24\" width=\"24\"><path d=\"M12 15.25a1 1 0 01-.7-.29l-4.58-4.5A1.011 1.011 0 018.12 9L12 12.85 15.88 9a1 1 0 111.4 1.42L12.7 15a1 1 0 01-.7.25z\"></path></svg></span></span></a>,\n",
       " <a class=\"header-link_anchor__09f24__2I27Q\" href=\"/search?cflt=homeservices&amp;find_loc=LaCrosse%2C%20Wi\" tabindex=\"0\"><span class=\"text__09f24__2tZKC text-color--normal__09f24__3oebo text-align--left__09f24__3Drs0\">Home Services</span><span class=\"display--inline__09f24__3iACj padding-l1__09f24__aqYTU border-color--default__09f24__R1nRO\"><style data-emotion-css=\"1mpk29p\">.css-1mpk29p{width:24px;height:24px;display:inline-block;vertical-align:middle;position:relative;overflow:hidden;top:-0.1em;fill:rgba(43,39,60,1);}.css-1mpk29p::before{position:absolute;display:block;left:0;}.css-1mpk29p::after{content:'';display:block;position:absolute;left:0;right:0;top:0;bottom:0;}.css-1mpk29p svg{position:absolute;width:100%;height:100%;fill:inherit;display:block;left:0;top:0;right:0;bottom:0;}</style><span aria-hidden=\"true\" class=\"icon--24-chevron-down-v2 css-1mpk29p\"><svg class=\"icon_svg\" height=\"24\" width=\"24\"><path d=\"M12 15.25a1 1 0 01-.7-.29l-4.58-4.5A1.011 1.011 0 018.12 9L12 12.85 15.88 9a1 1 0 111.4 1.42L12.7 15a1 1 0 01-.7.25z\"></path></svg></span></span></a>,\n",
       " <a class=\"header-link_anchor__09f24__2I27Q\" href=\"/search?cflt=auto&amp;find_loc=LaCrosse%2C%20Wi\" tabindex=\"0\"><span class=\"text__09f24__2tZKC text-color--normal__09f24__3oebo text-align--left__09f24__3Drs0\">Auto Services</span><span class=\"display--inline__09f24__3iACj padding-l1__09f24__aqYTU border-color--default__09f24__R1nRO\"><style data-emotion-css=\"1mpk29p\">.css-1mpk29p{width:24px;height:24px;display:inline-block;vertical-align:middle;position:relative;overflow:hidden;top:-0.1em;fill:rgba(43,39,60,1);}.css-1mpk29p::before{position:absolute;display:block;left:0;}.css-1mpk29p::after{content:'';display:block;position:absolute;left:0;right:0;top:0;bottom:0;}.css-1mpk29p svg{position:absolute;width:100%;height:100%;fill:inherit;display:block;left:0;top:0;right:0;bottom:0;}</style><span aria-hidden=\"true\" class=\"icon--24-chevron-down-v2 css-1mpk29p\"><svg class=\"icon_svg\" height=\"24\" width=\"24\"><path d=\"M12 15.25a1 1 0 01-.7-.29l-4.58-4.5A1.011 1.011 0 018.12 9L12 12.85 15.88 9a1 1 0 111.4 1.42L12.7 15a1 1 0 01-.7.25z\"></path></svg></span></span></a>,\n",
       " <a class=\"header-link_anchor__09f24__2I27Q default-cursor__09f24__1zPjQ\" tabindex=\"0\"><span class=\"text__09f24__2tZKC text-color--normal__09f24__3oebo text-align--left__09f24__3Drs0\">More</span><span class=\"display--inline__09f24__3iACj padding-l1__09f24__aqYTU border-color--default__09f24__R1nRO\"><style data-emotion-css=\"1mpk29p\">.css-1mpk29p{width:24px;height:24px;display:inline-block;vertical-align:middle;position:relative;overflow:hidden;top:-0.1em;fill:rgba(43,39,60,1);}.css-1mpk29p::before{position:absolute;display:block;left:0;}.css-1mpk29p::after{content:'';display:block;position:absolute;left:0;right:0;top:0;bottom:0;}.css-1mpk29p svg{position:absolute;width:100%;height:100%;fill:inherit;display:block;left:0;top:0;right:0;bottom:0;}</style><span aria-hidden=\"true\" class=\"icon--24-chevron-down-v2 css-1mpk29p\"><svg class=\"icon_svg\" height=\"24\" width=\"24\"><path d=\"M12 15.25a1 1 0 01-.7-.29l-4.58-4.5A1.011 1.011 0 018.12 9L12 12.85 15.88 9a1 1 0 111.4 1.42L12.7 15a1 1 0 01-.7.25z\"></path></svg></span></span></a>,\n",
       " <a class=\"link__09f24__1kwXV link-color--inherit__09f24__3PYlA link-size--default__09f24__3xWLF\" href=\"\" name=\"\" rel=\"button\" role=\"button\" target=\"\">See all</a>,\n",
       " <a class=\"link__09f24__1kwXV link-color--inherit__09f24__3PYlA link-size--inherit__09f24__2Uj95\" href=\"/search?find_loc=La+Crosse%2C+WI\" name=\"\" rel=\"\" role=\"link\" target=\"\">La Crosse</a>,\n",
       " <a class=\"link__09f24__1kwXV link-color--inherit__09f24__3PYlA link-size--inherit__09f24__2Uj95\" href=\"/search?cflt=restaurants&amp;find_loc=La+Crosse%2C+WI\" name=\"\" rel=\"\" role=\"link\" target=\"\">Restaurants</a>,\n",
       " <a aria-expanded=\"false\" aria-haspopup=\"listbox\" class=\"link__09f24__1kwXV link-color--inherit__09f24__3PYlA link-size--default__09f24__3xWLF\" href=\"\" name=\"\" rel=\"\" role=\"button\" target=\"\"><span class=\"display--inline__09f24__3iACj margin-r0-5__09f24__zUVuo border-color--default__09f24__R1nRO\"><span class=\"text__09f24__2tZKC text-color--inherit__09f24__1jgBv text-align--left__09f24__3Drs0 text-weight--bold__09f24__WGVdT\">Recommended</span></span><style data-emotion-css=\"1qkiuob\">.css-1qkiuob{width:16px;height:16px;display:inline-block;vertical-align:middle;position:relative;overflow:hidden;top:-0.1em;fill:rgba(43,39,60,1);}.css-1qkiuob::before{position:absolute;display:block;left:0;}.css-1qkiuob::after{content:'';display:block;position:absolute;left:0;right:0;top:0;bottom:0;}.css-1qkiuob svg{position:absolute;width:100%;height:100%;fill:inherit;display:block;left:0;top:0;right:0;bottom:0;}</style><span aria-hidden=\"true\" class=\"icon--16-chevron-down-v2 css-1qkiuob\"><svg class=\"icon_svg\" height=\"16\" width=\"16\"><path d=\"M8 10.5a1 1 0 01-.7-.29l-3.06-3a1 1 0 111.41-1.42L8 8.1l2.35-2.31a1 1 0 111.41 1.42l-3.06 3a1 1 0 01-.7.29z\"></path></svg></span></a>,\n",
       " <a class=\"link__09f24__1kwXV photo-box-link__09f24__28L0f link-color--blue-dark__09f24__2DRa0 link-size--default__09f24__3xWLF\" href=\"/adredir?ad_business_id=XC6BOBYc6v8kwDi7IXXsHQ&amp;campaign_id=1o2y9rD7PpdaYXJ4thdd0Q&amp;click_origin=search_results&amp;placement=above_search&amp;placement_slot=0&amp;redirect_url=https%3A%2F%2Fwww.yelp.com%2Fbiz%2Fpapa-murphys-holmen&amp;request_id=06cfa3f24a49a813&amp;signature=5beb83f07857ebb9055a5d8babb10e86b8c9f2b8b532d0036686696db28895b8&amp;slot=0\" name=\"\" rel=\"\" target=\"\"><img alt=\"Papa Murphy’s\" class=\"photo-box-img__09f24__3F3c5\" height=\"100%\" loading=\"auto\" src=\"https://s3-media0.fl.yelpcdn.com/bphoto/0OJ3t5y4jJZhTi_J9lCOow/ls.jpg\" srcset=\"https://s3-media0.fl.yelpcdn.com/bphoto/0OJ3t5y4jJZhTi_J9lCOow/258s.jpg 1.03x,https://s3-media0.fl.yelpcdn.com/bphoto/0OJ3t5y4jJZhTi_J9lCOow/348s.jpg 1.39x,https://s3-media0.fl.yelpcdn.com/bphoto/0OJ3t5y4jJZhTi_J9lCOow/300s.jpg 1.20x\" width=\"100%\"/></a>,\n",
       " <a class=\"link__09f24__1kwXV link-color--inherit__09f24__3PYlA link-size--inherit__09f24__2Uj95\" href=\"/adredir?ad_business_id=XC6BOBYc6v8kwDi7IXXsHQ&amp;campaign_id=1o2y9rD7PpdaYXJ4thdd0Q&amp;click_origin=search_results&amp;placement=above_search&amp;placement_slot=0&amp;redirect_url=https%3A%2F%2Fwww.yelp.com%2Fbiz%2Fpapa-murphys-holmen&amp;request_id=06cfa3f24a49a813&amp;signature=5beb83f07857ebb9055a5d8babb10e86b8c9f2b8b532d0036686696db28895b8&amp;slot=0\" name=\"Papa Murphy’s\" rel=\"\" target=\"\">Papa Murphy’s</a>,\n",
       " <a class=\"link__09f24__1kwXV link-color--inherit__09f24__3PYlA link-size--default__09f24__3xWLF\" href=\"/search?cflt=pizza&amp;find_loc=LaCrosse%2C+Wi\" name=\"\" rel=\"\" role=\"link\" target=\"\">Pizza</a>,\n",
       " <a class=\"link__09f24__1kwXV link-color--blue-dark__09f24__2DRa0 link-size--inherit__09f24__2Uj95\" href=\"/adredir?ad_business_id=XC6BOBYc6v8kwDi7IXXsHQ&amp;campaign_id=1o2y9rD7PpdaYXJ4thdd0Q&amp;click_origin=read_more&amp;placement=above_search&amp;placement_slot=0&amp;redirect_url=https%3A%2F%2Fwww.yelp.com%2Fbiz%2Fpapa-murphys-holmen%3Fhrid%3DcB35CAFOKkbEEWxYCdcHng&amp;request_id=06cfa3f24a49a813&amp;signature=b9b599bc00b93a35d3e484919103f3d0a1c84eeaabe983f8e6c94aeea741826a&amp;slot=0\" name=\"\" rel=\"\" target=\"\">more</a>,\n",
       " <a class=\"button__09f24__1hAjX secondary-white__09f24__2I7fE platformSearchAction__09f24__3cmix horizontalSearchAction__09f24__1yGGC\" href=\"/adredir?ad_business_id=XC6BOBYc6v8kwDi7IXXsHQ&amp;click_origin=search_results_platform&amp;placement=above_search&amp;placement_slot=0&amp;redirect_url=https%3A%2F%2Fwww.yelp.com%2Fbiz%2Fpapa-murphys-holmen%23popup%3Aplatform&amp;request_id=06cfa3f24a49a813&amp;signature=efcc893e5e3bfa3dc442204575a5ce59830aae028319e250227f9bad0743be1f&amp;slot=0\" style=\"--mousedown-x:0px;--mousedown-y:0px;--button-width:0px\" target=\"_blank\"><div class=\"button-content__09f24__2SF6G border-color--default__09f24__R1nRO\"><span class=\"text__09f24__2tZKC button-content-text__09f24__3OonI text-color--inherit__09f24__1jgBv text-align--center__09f24__3NO89 text-weight--semibold__09f24__MTlNc text-size--large__09f24__3-9KJ text--truncated__09f24__2NCmr\">Start Order</span></div></a>,\n",
       " <a class=\"link__09f24__1kwXV photo-box-link__09f24__28L0f link-color--blue-dark__09f24__2DRa0 link-size--default__09f24__3xWLF\" href=\"/biz/the-waterfront-restaurant-and-tavern-la-crosse\" name=\"\" rel=\"\" target=\"\"><img alt=\"The Waterfront Restaurant &amp; Tavern\" class=\"photo-box-img__09f24__3F3c5\" height=\"100%\" loading=\"auto\" src=\"https://s3-media0.fl.yelpcdn.com/bphoto/V6jt6KnVM2wbfjTO9VPK9Q/ls.jpg\" srcset=\"https://s3-media0.fl.yelpcdn.com/bphoto/V6jt6KnVM2wbfjTO9VPK9Q/258s.jpg 1.03x,https://s3-media0.fl.yelpcdn.com/bphoto/V6jt6KnVM2wbfjTO9VPK9Q/348s.jpg 1.39x,https://s3-media0.fl.yelpcdn.com/bphoto/V6jt6KnVM2wbfjTO9VPK9Q/300s.jpg 1.20x\" width=\"100%\"/></a>,\n",
       " <a class=\"link__09f24__1kwXV link-color--inherit__09f24__3PYlA link-size--inherit__09f24__2Uj95\" href=\"/biz/the-waterfront-restaurant-and-tavern-la-crosse\" name=\"The Waterfront Restaurant &amp; Tavern\" rel=\"\" target=\"\">The Waterfront Restaurant &amp; Tavern</a>,\n",
       " <a class=\"link__09f24__1kwXV link-color--inherit__09f24__3PYlA link-size--default__09f24__3xWLF\" href=\"/search?cflt=newamerican&amp;find_loc=LaCrosse%2C+Wi\" name=\"\" rel=\"\" role=\"link\" target=\"\">American (New)</a>,\n",
       " <a class=\"link__09f24__1kwXV link-color--inherit__09f24__3PYlA link-size--default__09f24__3xWLF\" href=\"/search?cflt=seafood&amp;find_loc=LaCrosse%2C+Wi\" name=\"\" rel=\"\" role=\"link\" target=\"\">Seafood</a>,\n",
       " <a class=\"link__09f24__1kwXV link-color--inherit__09f24__3PYlA link-size--default__09f24__3xWLF\" href=\"/search?cflt=steak&amp;find_loc=LaCrosse%2C+Wi\" name=\"\" rel=\"\" role=\"link\" target=\"\">Steakhouses</a>,\n",
       " <a class=\"link__09f24__1kwXV link-color--blue-dark__09f24__2DRa0 link-size--inherit__09f24__2Uj95\" href=\"/biz/the-waterfront-restaurant-and-tavern-la-crosse?hrid=SQAa6nil5y3C39hMRCJjnA\" name=\"\" rel=\"\" target=\"\">more</a>,\n",
       " <a class=\"link__09f24__1kwXV photo-box-link__09f24__28L0f link-color--blue-dark__09f24__2DRa0 link-size--default__09f24__3xWLF\" href=\"/biz/restore-public-house-la-crosse\" name=\"\" rel=\"\" target=\"\"><img alt=\"Restore Public House\" class=\"photo-box-img__09f24__3F3c5\" height=\"100%\" loading=\"auto\" src=\"https://s3-media0.fl.yelpcdn.com/bphoto/vEI6Mm39cUX0deAhyL5ZiQ/ls.jpg\" srcset=\"https://s3-media0.fl.yelpcdn.com/bphoto/vEI6Mm39cUX0deAhyL5ZiQ/258s.jpg 1.03x,https://s3-media0.fl.yelpcdn.com/bphoto/vEI6Mm39cUX0deAhyL5ZiQ/348s.jpg 1.39x,https://s3-media0.fl.yelpcdn.com/bphoto/vEI6Mm39cUX0deAhyL5ZiQ/300s.jpg 1.20x\" width=\"100%\"/></a>,\n",
       " <a class=\"link__09f24__1kwXV link-color--inherit__09f24__3PYlA link-size--inherit__09f24__2Uj95\" href=\"/biz/restore-public-house-la-crosse\" name=\"Restore Public House\" rel=\"\" target=\"\">Restore Public House</a>,\n",
       " <a class=\"link__09f24__1kwXV link-color--inherit__09f24__3PYlA link-size--default__09f24__3xWLF\" href=\"/search?cflt=tradamerican&amp;find_loc=LaCrosse%2C+Wi\" name=\"\" rel=\"\" role=\"link\" target=\"\">American (Traditional)</a>,\n",
       " <a class=\"link__09f24__1kwXV link-color--blue-dark__09f24__2DRa0 link-size--inherit__09f24__2Uj95\" href=\"/biz/restore-public-house-la-crosse?hrid=pgvc432gAlKl75RGzXegmQ\" name=\"\" rel=\"\" target=\"\">more</a>,\n",
       " <a class=\"link__09f24__1kwXV photo-box-link__09f24__28L0f link-color--blue-dark__09f24__2DRa0 link-size--default__09f24__3xWLF\" href=\"/biz/buzzard-billys-la-crosse-3\" name=\"\" rel=\"\" target=\"\"><img alt=\"Buzzard Billy’s\" class=\"photo-box-img__09f24__3F3c5\" height=\"100%\" loading=\"auto\" src=\"https://s3-media0.fl.yelpcdn.com/bphoto/Gd132jD_SaZowIGLHM6KUQ/ls.jpg\" srcset=\"https://s3-media0.fl.yelpcdn.com/bphoto/Gd132jD_SaZowIGLHM6KUQ/258s.jpg 1.03x,https://s3-media0.fl.yelpcdn.com/bphoto/Gd132jD_SaZowIGLHM6KUQ/348s.jpg 1.39x,https://s3-media0.fl.yelpcdn.com/bphoto/Gd132jD_SaZowIGLHM6KUQ/300s.jpg 1.20x\" width=\"100%\"/></a>,\n",
       " <a class=\"link__09f24__1kwXV link-color--inherit__09f24__3PYlA link-size--inherit__09f24__2Uj95\" href=\"/biz/buzzard-billys-la-crosse-3\" name=\"Buzzard Billy’s\" rel=\"\" target=\"\">Buzzard Billy’s</a>,\n",
       " <a class=\"link__09f24__1kwXV link-color--inherit__09f24__3PYlA link-size--default__09f24__3xWLF\" href=\"/search?cflt=tradamerican&amp;find_loc=LaCrosse%2C+Wi\" name=\"\" rel=\"\" role=\"link\" target=\"\">American (Traditional)</a>,\n",
       " <a class=\"link__09f24__1kwXV link-color--inherit__09f24__3PYlA link-size--default__09f24__3xWLF\" href=\"/search?cflt=cajun&amp;find_loc=LaCrosse%2C+Wi\" name=\"\" rel=\"\" role=\"link\" target=\"\">Cajun/Creole</a>,\n",
       " <a class=\"link__09f24__1kwXV link-color--blue-dark__09f24__2DRa0 link-size--inherit__09f24__2Uj95\" href=\"/biz/buzzard-billys-la-crosse-3?hrid=pa2e825e7QiUaz_DXcxGnA\" name=\"\" rel=\"\" target=\"\">more</a>,\n",
       " <a class=\"button__09f24__1hAjX secondary-white__09f24__2I7fE platformSearchAction__09f24__3cmix horizontalSearchAction__09f24__1yGGC\" href=\"/biz/QoExtCgfrNTMZaNbBtFXSA#popup:platform\" style=\"--mousedown-x:0px;--mousedown-y:0px;--button-width:0px\" target=\"_blank\"><div class=\"button-content__09f24__2SF6G border-color--default__09f24__R1nRO\"><span class=\"text__09f24__2tZKC button-content-text__09f24__3OonI text-color--inherit__09f24__1jgBv text-align--center__09f24__3NO89 text-weight--semibold__09f24__MTlNc text-size--large__09f24__3-9KJ text--truncated__09f24__2NCmr\">Start Order</span></div></a>,\n",
       " <a class=\"link__09f24__1kwXV photo-box-link__09f24__28L0f link-color--blue-dark__09f24__2DRa0 link-size--default__09f24__3xWLF\" href=\"/biz/lovechild-restaurant-la-crosse\" name=\"\" rel=\"\" target=\"\"><img alt=\"Lovechild Restaurant\" class=\"photo-box-img__09f24__3F3c5\" height=\"100%\" loading=\"auto\" src=\"https://s3-media0.fl.yelpcdn.com/bphoto/qCTvkFALfNzONMLGBbW37g/ls.jpg\" srcset=\"https://s3-media0.fl.yelpcdn.com/bphoto/qCTvkFALfNzONMLGBbW37g/258s.jpg 1.03x,https://s3-media0.fl.yelpcdn.com/bphoto/qCTvkFALfNzONMLGBbW37g/348s.jpg 1.39x,https://s3-media0.fl.yelpcdn.com/bphoto/qCTvkFALfNzONMLGBbW37g/300s.jpg 1.20x\" width=\"100%\"/></a>,\n",
       " <a class=\"link__09f24__1kwXV link-color--inherit__09f24__3PYlA link-size--inherit__09f24__2Uj95\" href=\"/biz/lovechild-restaurant-la-crosse\" name=\"Lovechild Restaurant\" rel=\"\" target=\"\">Lovechild Restaurant</a>,\n",
       " <a class=\"link__09f24__1kwXV link-color--inherit__09f24__3PYlA link-size--default__09f24__3xWLF\" href=\"/search?cflt=newamerican&amp;find_loc=LaCrosse%2C+Wi\" name=\"\" rel=\"\" role=\"link\" target=\"\">American (New)</a>,\n",
       " <a class=\"link__09f24__1kwXV link-color--blue-dark__09f24__2DRa0 link-size--inherit__09f24__2Uj95\" href=\"/biz/lovechild-restaurant-la-crosse?hrid=QzEySgkcZKerSFUlaIOCfQ\" name=\"\" rel=\"\" target=\"\">more</a>,\n",
       " <a class=\"link__09f24__1kwXV photo-box-link__09f24__28L0f link-color--blue-dark__09f24__2DRa0 link-size--default__09f24__3xWLF\" href=\"/biz/the-charmant-la-crosse\" name=\"\" rel=\"\" target=\"\"><img alt=\"The Charmant\" class=\"photo-box-img__09f24__3F3c5\" height=\"100%\" loading=\"auto\" src=\"https://s3-media0.fl.yelpcdn.com/bphoto/tzQiYVynTHK5sfM2rcZs4Q/ls.jpg\" srcset=\"https://s3-media0.fl.yelpcdn.com/bphoto/tzQiYVynTHK5sfM2rcZs4Q/258s.jpg 1.03x,https://s3-media0.fl.yelpcdn.com/bphoto/tzQiYVynTHK5sfM2rcZs4Q/348s.jpg 1.39x,https://s3-media0.fl.yelpcdn.com/bphoto/tzQiYVynTHK5sfM2rcZs4Q/300s.jpg 1.20x\" width=\"100%\"/></a>,\n",
       " <a class=\"link__09f24__1kwXV link-color--inherit__09f24__3PYlA link-size--inherit__09f24__2Uj95\" href=\"/biz/the-charmant-la-crosse\" name=\"The Charmant\" rel=\"\" target=\"\">The Charmant</a>,\n",
       " <a class=\"link__09f24__1kwXV link-color--inherit__09f24__3PYlA link-size--default__09f24__3xWLF\" href=\"/search?cflt=french&amp;find_loc=LaCrosse%2C+Wi\" name=\"\" rel=\"\" role=\"link\" target=\"\">French</a>,\n",
       " <a class=\"link__09f24__1kwXV link-color--inherit__09f24__3PYlA link-size--default__09f24__3xWLF\" href=\"/search?cflt=cocktailbars&amp;find_loc=LaCrosse%2C+Wi\" name=\"\" rel=\"\" role=\"link\" target=\"\">Cocktail Bars</a>,\n",
       " <a class=\"link__09f24__1kwXV link-color--blue-dark__09f24__2DRa0 link-size--inherit__09f24__2Uj95\" href=\"/biz/the-charmant-la-crosse?hrid=tGgNmedm_RSrHUhMrzd9WA\" name=\"\" rel=\"\" target=\"\">more</a>,\n",
       " <a class=\"link__09f24__1kwXV photo-box-link__09f24__28L0f link-color--blue-dark__09f24__2DRa0 link-size--default__09f24__3xWLF\" href=\"/biz/the-freighthouse-restaurant-la-crosse\" name=\"\" rel=\"\" target=\"\"><img alt=\"The Freighthouse Restaurant\" class=\"photo-box-img__09f24__3F3c5\" height=\"100%\" loading=\"auto\" src=\"https://s3-media0.fl.yelpcdn.com/bphoto/3wla0Xl-OGAhznHXYEv9_w/ls.jpg\" srcset=\"https://s3-media0.fl.yelpcdn.com/bphoto/3wla0Xl-OGAhznHXYEv9_w/258s.jpg 1.03x,https://s3-media0.fl.yelpcdn.com/bphoto/3wla0Xl-OGAhznHXYEv9_w/348s.jpg 1.39x,https://s3-media0.fl.yelpcdn.com/bphoto/3wla0Xl-OGAhznHXYEv9_w/300s.jpg 1.20x\" width=\"100%\"/></a>,\n",
       " <a class=\"link__09f24__1kwXV link-color--inherit__09f24__3PYlA link-size--inherit__09f24__2Uj95\" href=\"/biz/the-freighthouse-restaurant-la-crosse\" name=\"The Freighthouse Restaurant\" rel=\"\" target=\"\">The Freighthouse Restaurant</a>,\n",
       " <a class=\"link__09f24__1kwXV link-color--inherit__09f24__3PYlA link-size--default__09f24__3xWLF\" href=\"/search?cflt=seafood&amp;find_loc=LaCrosse%2C+Wi\" name=\"\" rel=\"\" role=\"link\" target=\"\">Seafood</a>,\n",
       " <a class=\"link__09f24__1kwXV link-color--inherit__09f24__3PYlA link-size--default__09f24__3xWLF\" href=\"/search?cflt=steak&amp;find_loc=LaCrosse%2C+Wi\" name=\"\" rel=\"\" role=\"link\" target=\"\">Steakhouses</a>,\n",
       " <a class=\"link__09f24__1kwXV link-color--inherit__09f24__3PYlA link-size--default__09f24__3xWLF\" href=\"/search?cflt=desserts&amp;find_loc=LaCrosse%2C+Wi\" name=\"\" rel=\"\" role=\"link\" target=\"\">Desserts</a>,\n",
       " <a class=\"link__09f24__1kwXV link-color--blue-dark__09f24__2DRa0 link-size--inherit__09f24__2Uj95\" href=\"/biz/the-freighthouse-restaurant-la-crosse?hrid=zxJySqU7dBkiRTVDKNJNFg\" name=\"\" rel=\"\" target=\"\">more</a>,\n",
       " <a class=\"link__09f24__1kwXV photo-box-link__09f24__28L0f link-color--blue-dark__09f24__2DRa0 link-size--default__09f24__3xWLF\" href=\"/biz/howies-on-la-crosse-la-crosse\" name=\"\" rel=\"\" target=\"\"><img alt=\"Howie’s on La Crosse\" class=\"photo-box-img__09f24__3F3c5\" height=\"100%\" loading=\"auto\" src=\"https://s3-media0.fl.yelpcdn.com/bphoto/FingORISxHMNC3-2hjxSZA/ls.jpg\" srcset=\"https://s3-media0.fl.yelpcdn.com/bphoto/FingORISxHMNC3-2hjxSZA/258s.jpg 1.03x,https://s3-media0.fl.yelpcdn.com/bphoto/FingORISxHMNC3-2hjxSZA/348s.jpg 1.39x,https://s3-media0.fl.yelpcdn.com/bphoto/FingORISxHMNC3-2hjxSZA/300s.jpg 1.20x\" width=\"100%\"/></a>,\n",
       " <a class=\"link__09f24__1kwXV link-color--inherit__09f24__3PYlA link-size--inherit__09f24__2Uj95\" href=\"/biz/howies-on-la-crosse-la-crosse\" name=\"Howie’s on La Crosse\" rel=\"\" target=\"\">Howie’s on La Crosse</a>,\n",
       " <a class=\"link__09f24__1kwXV link-color--inherit__09f24__3PYlA link-size--default__09f24__3xWLF\" href=\"/search?cflt=newamerican&amp;find_loc=LaCrosse%2C+Wi\" name=\"\" rel=\"\" role=\"link\" target=\"\">American (New)</a>,\n",
       " <a class=\"link__09f24__1kwXV link-color--inherit__09f24__3PYlA link-size--default__09f24__3xWLF\" href=\"/search?cflt=pubs&amp;find_loc=LaCrosse%2C+Wi\" name=\"\" rel=\"\" role=\"link\" target=\"\">Pubs</a>,\n",
       " <a class=\"link__09f24__1kwXV link-color--blue-dark__09f24__2DRa0 link-size--inherit__09f24__2Uj95\" href=\"/biz/howies-on-la-crosse-la-crosse?hrid=ypx7BEqxJSUe-Eq-mOJrmw\" name=\"\" rel=\"\" target=\"\">more</a>,\n",
       " <a class=\"link__09f24__1kwXV photo-box-link__09f24__28L0f link-color--blue-dark__09f24__2DRa0 link-size--default__09f24__3xWLF\" href=\"/biz/piggys-restaurant-la-crosse\" name=\"\" rel=\"\" target=\"\"><img alt=\"Piggy’s Restaurant\" class=\"photo-box-img__09f24__3F3c5\" height=\"100%\" loading=\"auto\" src=\"https://s3-media0.fl.yelpcdn.com/bphoto/KRhIT-jni5uc5-wRE_l6Hg/ls.jpg\" srcset=\"https://s3-media0.fl.yelpcdn.com/bphoto/KRhIT-jni5uc5-wRE_l6Hg/258s.jpg 1.03x,https://s3-media0.fl.yelpcdn.com/bphoto/KRhIT-jni5uc5-wRE_l6Hg/348s.jpg 1.39x,https://s3-media0.fl.yelpcdn.com/bphoto/KRhIT-jni5uc5-wRE_l6Hg/300s.jpg 1.20x\" width=\"100%\"/></a>,\n",
       " <a class=\"link__09f24__1kwXV link-color--inherit__09f24__3PYlA link-size--inherit__09f24__2Uj95\" href=\"/biz/piggys-restaurant-la-crosse\" name=\"Piggy’s Restaurant\" rel=\"\" target=\"\">Piggy’s Restaurant</a>,\n",
       " <a class=\"link__09f24__1kwXV link-color--inherit__09f24__3PYlA link-size--default__09f24__3xWLF\" href=\"/search?cflt=steak&amp;find_loc=LaCrosse%2C+Wi\" name=\"\" rel=\"\" role=\"link\" target=\"\">Steakhouses</a>,\n",
       " <a class=\"link__09f24__1kwXV link-color--inherit__09f24__3PYlA link-size--default__09f24__3xWLF\" href=\"/search?cflt=seafood&amp;find_loc=LaCrosse%2C+Wi\" name=\"\" rel=\"\" role=\"link\" target=\"\">Seafood</a>,\n",
       " <a class=\"link__09f24__1kwXV link-color--inherit__09f24__3PYlA link-size--default__09f24__3xWLF\" href=\"/search?cflt=sandwiches&amp;find_loc=LaCrosse%2C+Wi\" name=\"\" rel=\"\" role=\"link\" target=\"\">Sandwiches</a>,\n",
       " <a class=\"link__09f24__1kwXV link-color--blue-dark__09f24__2DRa0 link-size--inherit__09f24__2Uj95\" href=\"/biz/piggys-restaurant-la-crosse?hrid=mfY6rpfpYMSJSfdSKM1yyA\" name=\"\" rel=\"\" target=\"\">more</a>,\n",
       " <a class=\"link__09f24__1kwXV photo-box-link__09f24__28L0f link-color--blue-dark__09f24__2DRa0 link-size--default__09f24__3xWLF\" href=\"/biz/the-crow-la-crosse\" name=\"\" rel=\"\" target=\"\"><img alt=\"The Crow\" class=\"photo-box-img__09f24__3F3c5\" height=\"100%\" loading=\"auto\" src=\"https://s3-media0.fl.yelpcdn.com/bphoto/MMOoJzme36dmwsuwn7533A/ls.jpg\" srcset=\"https://s3-media0.fl.yelpcdn.com/bphoto/MMOoJzme36dmwsuwn7533A/258s.jpg 1.03x,https://s3-media0.fl.yelpcdn.com/bphoto/MMOoJzme36dmwsuwn7533A/348s.jpg 1.39x,https://s3-media0.fl.yelpcdn.com/bphoto/MMOoJzme36dmwsuwn7533A/300s.jpg 1.20x\" width=\"100%\"/></a>,\n",
       " <a class=\"link__09f24__1kwXV link-color--inherit__09f24__3PYlA link-size--inherit__09f24__2Uj95\" href=\"/biz/the-crow-la-crosse\" name=\"The Crow\" rel=\"\" target=\"\">The Crow</a>,\n",
       " <a class=\"link__09f24__1kwXV link-color--inherit__09f24__3PYlA link-size--default__09f24__3xWLF\" href=\"/search?cflt=tradamerican&amp;find_loc=LaCrosse%2C+Wi\" name=\"\" rel=\"\" role=\"link\" target=\"\">American (Traditional)</a>,\n",
       " <a class=\"link__09f24__1kwXV link-color--inherit__09f24__3PYlA link-size--default__09f24__3xWLF\" href=\"/search?cflt=gastropubs&amp;find_loc=LaCrosse%2C+Wi\" name=\"\" rel=\"\" role=\"link\" target=\"\">Gastropubs</a>,\n",
       " <a class=\"link__09f24__1kwXV link-color--blue-dark__09f24__2DRa0 link-size--inherit__09f24__2Uj95\" href=\"/biz/the-crow-la-crosse?hrid=fkhQQzUT-fr0ZV-0Z4FpKQ\" name=\"\" rel=\"\" target=\"\">more</a>,\n",
       " <a class=\"link__09f24__1kwXV photo-box-link__09f24__28L0f link-color--blue-dark__09f24__2DRa0 link-size--default__09f24__3xWLF\" href=\"/biz/schubys-neighborhood-butcher-la-crosse\" name=\"\" rel=\"\" target=\"\"><img alt=\"Schuby’s Neighborhood Butcher\" class=\"photo-box-img__09f24__3F3c5\" height=\"100%\" loading=\"auto\" src=\"https://s3-media0.fl.yelpcdn.com/bphoto/_laMe6TJA-YuMz6uS5Rhcg/ls.jpg\" srcset=\"https://s3-media0.fl.yelpcdn.com/bphoto/_laMe6TJA-YuMz6uS5Rhcg/258s.jpg 1.03x,https://s3-media0.fl.yelpcdn.com/bphoto/_laMe6TJA-YuMz6uS5Rhcg/348s.jpg 1.39x,https://s3-media0.fl.yelpcdn.com/bphoto/_laMe6TJA-YuMz6uS5Rhcg/300s.jpg 1.20x\" width=\"100%\"/></a>,\n",
       " <a class=\"link__09f24__1kwXV link-color--inherit__09f24__3PYlA link-size--inherit__09f24__2Uj95\" href=\"/biz/schubys-neighborhood-butcher-la-crosse\" name=\"Schuby’s Neighborhood Butcher\" rel=\"\" target=\"\">Schuby’s Neighborhood Butcher</a>,\n",
       " <a class=\"link__09f24__1kwXV link-color--inherit__09f24__3PYlA link-size--default__09f24__3xWLF\" href=\"/search?cflt=butcher&amp;find_loc=LaCrosse%2C+Wi\" name=\"\" rel=\"\" role=\"link\" target=\"\">Butcher</a>,\n",
       " <a class=\"link__09f24__1kwXV link-color--inherit__09f24__3PYlA link-size--default__09f24__3xWLF\" href=\"/search?cflt=delis&amp;find_loc=LaCrosse%2C+Wi\" name=\"\" rel=\"\" role=\"link\" target=\"\">Delis</a>,\n",
       " <a class=\"link__09f24__1kwXV link-color--inherit__09f24__3PYlA link-size--default__09f24__3xWLF\" href=\"/search?cflt=catering&amp;find_loc=LaCrosse%2C+Wi\" name=\"\" rel=\"\" role=\"link\" target=\"\">Caterers</a>,\n",
       " <a class=\"link__09f24__1kwXV link-color--blue-dark__09f24__2DRa0 link-size--inherit__09f24__2Uj95\" href=\"/biz/schubys-neighborhood-butcher-la-crosse?hrid=SxOsgLZ2RmtDLeil5q-c-Q\" name=\"\" rel=\"\" target=\"\">more</a>,\n",
       " <a class=\"link__09f24__1kwXV pagination-link-component__09f24__H0ICg link-color--inherit__09f24__3PYlA link-size--inherit__09f24__2Uj95\" href=\"/search?cflt=restaurants&amp;find_loc=LaCrosse%2C%20Wi&amp;start=10\" name=\"\" rel=\"\" role=\"link\" target=\"\"><div aria-label=\"Page: 2\" class=\"undefined display--inline-block__09f24__FsgS4 border-color--default__09f24__R1nRO\">2</div></a>,\n",
       " <a class=\"link__09f24__1kwXV pagination-link-component__09f24__H0ICg link-color--inherit__09f24__3PYlA link-size--inherit__09f24__2Uj95\" href=\"/search?cflt=restaurants&amp;find_loc=LaCrosse%2C%20Wi&amp;start=20\" name=\"\" rel=\"\" role=\"link\" target=\"\"><div aria-label=\"Page: 3\" class=\"undefined display--inline-block__09f24__FsgS4 border-color--default__09f24__R1nRO\">3</div></a>,\n",
       " <a class=\"link__09f24__1kwXV pagination-link-component__09f24__H0ICg link-color--inherit__09f24__3PYlA link-size--inherit__09f24__2Uj95\" href=\"/search?cflt=restaurants&amp;find_loc=LaCrosse%2C%20Wi&amp;start=30\" name=\"\" rel=\"\" role=\"link\" target=\"\"><div aria-label=\"Page: 4\" class=\"undefined display--inline-block__09f24__FsgS4 border-color--default__09f24__R1nRO\">4</div></a>,\n",
       " <a class=\"link__09f24__1kwXV pagination-link-component__09f24__H0ICg link-color--inherit__09f24__3PYlA link-size--inherit__09f24__2Uj95\" href=\"/search?cflt=restaurants&amp;find_loc=LaCrosse%2C%20Wi&amp;start=40\" name=\"\" rel=\"\" role=\"link\" target=\"\"><div aria-label=\"Page: 5\" class=\"undefined display--inline-block__09f24__FsgS4 border-color--default__09f24__R1nRO\">5</div></a>,\n",
       " <a class=\"link__09f24__1kwXV pagination-link-component__09f24__H0ICg link-color--inherit__09f24__3PYlA link-size--inherit__09f24__2Uj95\" href=\"/search?cflt=restaurants&amp;find_loc=LaCrosse%2C%20Wi&amp;start=50\" name=\"\" rel=\"\" role=\"link\" target=\"\"><div aria-label=\"Page: 6\" class=\"undefined display--inline-block__09f24__FsgS4 border-color--default__09f24__R1nRO\">6</div></a>,\n",
       " <a class=\"link__09f24__1kwXV pagination-link-component__09f24__H0ICg link-color--inherit__09f24__3PYlA link-size--inherit__09f24__2Uj95\" href=\"/search?cflt=restaurants&amp;find_loc=LaCrosse%2C%20Wi&amp;start=60\" name=\"\" rel=\"\" role=\"link\" target=\"\"><div aria-label=\"Page: 7\" class=\"undefined display--inline-block__09f24__FsgS4 border-color--default__09f24__R1nRO\">7</div></a>,\n",
       " <a class=\"link__09f24__1kwXV pagination-link-component__09f24__H0ICg link-color--inherit__09f24__3PYlA link-size--inherit__09f24__2Uj95\" href=\"/search?cflt=restaurants&amp;find_loc=LaCrosse%2C%20Wi&amp;start=70\" name=\"\" rel=\"\" role=\"link\" target=\"\"><div aria-label=\"Page: 8\" class=\"undefined display--inline-block__09f24__FsgS4 border-color--default__09f24__R1nRO\">8</div></a>,\n",
       " <a class=\"link__09f24__1kwXV pagination-link-component__09f24__H0ICg link-color--inherit__09f24__3PYlA link-size--inherit__09f24__2Uj95\" href=\"/search?cflt=restaurants&amp;find_loc=LaCrosse%2C%20Wi&amp;start=80\" name=\"\" rel=\"\" role=\"link\" target=\"\"><div aria-label=\"Page: 9\" class=\"undefined display--inline-block__09f24__FsgS4 border-color--default__09f24__R1nRO\">9</div></a>,\n",
       " <a class=\"link__09f24__1kwXV next-link navigation-button__09f24__3F7Pt link-color--inherit__09f24__3PYlA link-size--inherit__09f24__2Uj95\" href=\"/search?cflt=restaurants&amp;find_loc=LaCrosse%2C%20Wi&amp;start=10\" name=\"\" rel=\"\" role=\"link\" target=\"\"><style data-emotion-css=\"12anxc3\">.css-12anxc3{width:24px;height:24px;display:inline-block;vertical-align:middle;position:relative;overflow:hidden;top:-0.1em;fill:currentColor;}.css-12anxc3::before{position:absolute;display:block;left:0;}.css-12anxc3::after{content:'';display:block;position:absolute;left:0;right:0;top:0;bottom:0;}.css-12anxc3 svg{position:absolute;width:100%;height:100%;fill:inherit;display:block;left:0;top:0;right:0;bottom:0;}</style><span aria-hidden=\"true\" class=\"icon--24-chevron-right-v2 navigation-button-icon__09f24__2FnZH css-12anxc3\"><svg class=\"icon_svg\" height=\"24\" width=\"24\"><path d=\"M9.75 17.58a1 1 0 01-.7-.28 1 1 0 010-1.42l3.8-3.88L9 8.12a1 1 0 111.41-1.42L15 11.3a1 1 0 010 1.4l-4.5 4.58a1 1 0 01-.75.3z\"></path></svg></span></a>,\n",
       " <a class=\"button__09f24__1hAjX primary__09f24__LBFK2\" href=\"/search/add_business/search_button_www?find_loc=LaCrosse%2C+Wi\" style=\"--mousedown-x:0px;--mousedown-y:0px;--button-width:0px\"><div class=\"button-content__09f24__2SF6G border-color--default__09f24__R1nRO\"><span class=\"text__09f24__2tZKC button-content-text__09f24__3OonI text-color--inherit__09f24__1jgBv text-align--center__09f24__3NO89 text-weight--semibold__09f24__MTlNc text-size--large__09f24__3-9KJ text--truncated__09f24__2NCmr\">Add business</span></div></a>,\n",
       " <a class=\"link__09f24__1kwXV link-color--blue-dark__09f24__2DRa0 link-size--default__09f24__3xWLF\" href=\"/contact?topic=feedback\" name=\"\" rel=\"\" role=\"button\" target=\"\">Help us improve.</a>,\n",
       " <a class=\"link__09f24__1kwXV link-color--black-extra-light__09f24__1BbfY link-size--default__09f24__3xWLF\" href=\"/collection/_Tj2uDpB-YZJJQiSDfncrQ\" name=\"\" rel=\"\" target=\"\"><p class=\"text__09f24__2tZKC text-color--inherit__09f24__1jgBv text-align--left__09f24__3Drs0 text--truncated__09f24__2NCmr\">Virtual Cooking Classes</p></a>,\n",
       " <a class=\"link__09f24__1kwXV link-color--black-extra-light__09f24__1BbfY link-size--default__09f24__3xWLF\" href=\"/search?find_desc=carry+out&amp;find_loc=La+Crosse%2C+WI\" name=\"\" rel=\"\" role=\"link\" target=\"\"><p class=\"text__09f24__2tZKC text-color--inherit__09f24__1jgBv text-align--left__09f24__3Drs0 text--truncated__09f24__2NCmr\">Carry Out</p></a>,\n",
       " <a class=\"link__09f24__1kwXV link-color--black-extra-light__09f24__1BbfY link-size--default__09f24__3xWLF\" href=\"/search?find_desc=cheap+dinner&amp;find_loc=La+Crosse%2C+WI\" name=\"\" rel=\"\" role=\"link\" target=\"\"><p class=\"text__09f24__2tZKC text-color--inherit__09f24__1jgBv text-align--left__09f24__3Drs0 text--truncated__09f24__2NCmr\">Cheap Dinner</p></a>,\n",
       " <a class=\"link__09f24__1kwXV link-color--black-extra-light__09f24__1BbfY link-size--default__09f24__3xWLF\" href=\"/search?find_desc=cheap+eats&amp;find_loc=La+Crosse%2C+WI\" name=\"\" rel=\"\" role=\"link\" target=\"\"><p class=\"text__09f24__2tZKC text-color--inherit__09f24__1jgBv text-align--left__09f24__3Drs0 text--truncated__09f24__2NCmr\">Cheap Eats</p></a>,\n",
       " <a class=\"link__09f24__1kwXV link-color--black-extra-light__09f24__1BbfY link-size--default__09f24__3xWLF\" href=\"/search?find_desc=everything&amp;find_loc=La+Crosse%2C+WI\" name=\"\" rel=\"\" role=\"link\" target=\"\"><p class=\"text__09f24__2tZKC text-color--inherit__09f24__1jgBv text-align--left__09f24__3Drs0 text--truncated__09f24__2NCmr\">Everything</p></a>,\n",
       " <a class=\"link__09f24__1kwXV link-color--black-extra-light__09f24__1BbfY link-size--default__09f24__3xWLF\" href=\"/search?find_desc=family+restaurant&amp;find_loc=La+Crosse%2C+WI\" name=\"\" rel=\"\" role=\"link\" target=\"\"><p class=\"text__09f24__2tZKC text-color--inherit__09f24__1jgBv text-align--left__09f24__3Drs0 text--truncated__09f24__2NCmr\">Family Restaurant</p></a>,\n",
       " <a class=\"link__09f24__1kwXV link-color--black-extra-light__09f24__1BbfY link-size--default__09f24__3xWLF\" href=\"/search?find_desc=local+favorite+restaurants&amp;find_loc=La+Crosse%2C+WI\" name=\"\" rel=\"\" role=\"link\" target=\"\"><p class=\"text__09f24__2tZKC text-color--inherit__09f24__1jgBv text-align--left__09f24__3Drs0 text--truncated__09f24__2NCmr\">Local Favorite Restaurants</p></a>,\n",
       " <a class=\"link__09f24__1kwXV link-color--black-extra-light__09f24__1BbfY link-size--default__09f24__3xWLF\" href=\"/search?find_desc=open+now&amp;find_loc=La+Crosse%2C+WI\" name=\"\" rel=\"\" role=\"link\" target=\"\"><p class=\"text__09f24__2tZKC text-color--inherit__09f24__1jgBv text-align--left__09f24__3Drs0 text--truncated__09f24__2NCmr\">Open Now</p></a>,\n",
       " <a class=\"link__09f24__1kwXV link-color--black-extra-light__09f24__1BbfY link-size--default__09f24__3xWLF\" href=\"/search?find_desc=pickup&amp;find_loc=La+Crosse%2C+WI\" name=\"\" rel=\"\" role=\"link\" target=\"\"><p class=\"text__09f24__2tZKC text-color--inherit__09f24__1jgBv text-align--left__09f24__3Drs0 text--truncated__09f24__2NCmr\">Pickup</p></a>,\n",
       " <a class=\"link__09f24__1kwXV link-color--black-extra-light__09f24__1BbfY link-size--default__09f24__3xWLF\" href=\"/search?find_desc=piggys&amp;find_loc=La+Crosse%2C+WI\" name=\"\" rel=\"\" role=\"link\" target=\"\"><p class=\"text__09f24__2tZKC text-color--inherit__09f24__1jgBv text-align--left__09f24__3Drs0 text--truncated__09f24__2NCmr\">Piggys</p></a>,\n",
       " <a class=\"link__09f24__1kwXV link-color--black-extra-light__09f24__1BbfY link-size--default__09f24__3xWLF\" href=\"/search?find_desc=restaurants+%26+food&amp;find_loc=La+Crosse%2C+WI\" name=\"\" rel=\"\" role=\"link\" target=\"\"><p class=\"text__09f24__2tZKC text-color--inherit__09f24__1jgBv text-align--left__09f24__3Drs0 text--truncated__09f24__2NCmr\">Restaurants &amp; Food</p></a>,\n",
       " <a class=\"link__09f24__1kwXV link-color--black-extra-light__09f24__1BbfY link-size--default__09f24__3xWLF\" href=\"/search?find_desc=Restaurants+Downtown&amp;find_loc=La+Crosse%2C+WI\" name=\"\" rel=\"\" role=\"link\" target=\"\"><p class=\"text__09f24__2tZKC text-color--inherit__09f24__1jgBv text-align--left__09f24__3Drs0 text--truncated__09f24__2NCmr\">Restaurants Downtown</p></a>,\n",
       " <a class=\"link__09f24__1kwXV link-color--black-extra-light__09f24__1BbfY link-size--default__09f24__3xWLF\" href=\"/search?find_desc=restaurants+near+me&amp;find_loc=La+Crosse%2C+WI\" name=\"\" rel=\"\" role=\"link\" target=\"\"><p class=\"text__09f24__2tZKC text-color--inherit__09f24__1jgBv text-align--left__09f24__3Drs0 text--truncated__09f24__2NCmr\">Restaurants Near Me</p></a>,\n",
       " <a class=\"link__09f24__1kwXV link-color--black-extra-light__09f24__1BbfY link-size--default__09f24__3xWLF\" href=\"/search?find_desc=restaurants+open+late&amp;find_loc=La+Crosse%2C+WI\" name=\"\" rel=\"\" role=\"link\" target=\"\"><p class=\"text__09f24__2tZKC text-color--inherit__09f24__1jgBv text-align--left__09f24__3Drs0 text--truncated__09f24__2NCmr\">Restaurants Open Late</p></a>,\n",
       " <a class=\"link__09f24__1kwXV link-color--black-extra-light__09f24__1BbfY link-size--default__09f24__3xWLF\" href=\"/search?find_desc=take+out&amp;find_loc=La+Crosse%2C+WI\" name=\"\" rel=\"\" role=\"link\" target=\"\"><p class=\"text__09f24__2tZKC text-color--inherit__09f24__1jgBv text-align--left__09f24__3Drs0 text--truncated__09f24__2NCmr\">Take Out</p></a>,\n",
       " <a class=\"link__09f24__1kwXV link-color--black-extra-light__09f24__1BbfY link-size--default__09f24__3xWLF\" href=\"/search?find_desc=waterfront+restaurants&amp;find_loc=La+Crosse%2C+WI\" name=\"\" rel=\"\" role=\"link\" target=\"\"><p class=\"text__09f24__2tZKC text-color--inherit__09f24__1jgBv text-align--left__09f24__3Drs0 text--truncated__09f24__2NCmr\">Waterfront Restaurants</p></a>,\n",
       " <a class=\"link__09f24__1kwXV link-color--black-extra-light__09f24__1BbfY link-size--default__09f24__3xWLF\" href=\"/search?cflt=newamerican&amp;find_loc=LaCrosse%2C+Wi\" name=\"\" rel=\"\" role=\"link\" target=\"\"><p class=\"text__09f24__2tZKC text-color--inherit__09f24__1jgBv text-align--left__09f24__3Drs0 text--truncated__09f24__2NCmr\">American (New)</p></a>,\n",
       " <a class=\"link__09f24__1kwXV link-color--black-extra-light__09f24__1BbfY link-size--default__09f24__3xWLF\" href=\"/search?cflt=tradamerican&amp;find_loc=LaCrosse%2C+Wi\" name=\"\" rel=\"\" role=\"link\" target=\"\"><p class=\"text__09f24__2tZKC text-color--inherit__09f24__1jgBv text-align--left__09f24__3Drs0 text--truncated__09f24__2NCmr\">American (Traditional)</p></a>,\n",
       " <a class=\"link__09f24__1kwXV link-color--black-extra-light__09f24__1BbfY link-size--default__09f24__3xWLF\" href=\"/search?cflt=breakfast_brunch&amp;find_loc=LaCrosse%2C+Wi\" name=\"\" rel=\"\" role=\"link\" target=\"\"><p class=\"text__09f24__2tZKC text-color--inherit__09f24__1jgBv text-align--left__09f24__3Drs0 text--truncated__09f24__2NCmr\">Breakfast &amp; Brunch</p></a>,\n",
       " <a class=\"link__09f24__1kwXV link-color--black-extra-light__09f24__1BbfY link-size--default__09f24__3xWLF\" href=\"/search?cflt=burgers&amp;find_loc=LaCrosse%2C+Wi\" name=\"\" rel=\"\" role=\"link\" target=\"\"><p class=\"text__09f24__2tZKC text-color--inherit__09f24__1jgBv text-align--left__09f24__3Drs0 text--truncated__09f24__2NCmr\">Burgers</p></a>,\n",
       " <a class=\"link__09f24__1kwXV link-color--black-extra-light__09f24__1BbfY link-size--default__09f24__3xWLF\" href=\"/search?cflt=cafes&amp;find_loc=LaCrosse%2C+Wi\" name=\"\" rel=\"\" role=\"link\" target=\"\"><p class=\"text__09f24__2tZKC text-color--inherit__09f24__1jgBv text-align--left__09f24__3Drs0 text--truncated__09f24__2NCmr\">Cafes</p></a>,\n",
       " <a class=\"link__09f24__1kwXV link-color--black-extra-light__09f24__1BbfY link-size--default__09f24__3xWLF\" href=\"/search?cflt=chicken_wings&amp;find_loc=LaCrosse%2C+Wi\" name=\"\" rel=\"\" role=\"link\" target=\"\"><p class=\"text__09f24__2tZKC text-color--inherit__09f24__1jgBv text-align--left__09f24__3Drs0 text--truncated__09f24__2NCmr\">Chicken Wings</p></a>,\n",
       " <a class=\"link__09f24__1kwXV link-color--black-extra-light__09f24__1BbfY link-size--default__09f24__3xWLF\" href=\"/search?cflt=chinese&amp;find_loc=LaCrosse%2C+Wi\" name=\"\" rel=\"\" role=\"link\" target=\"\"><p class=\"text__09f24__2tZKC text-color--inherit__09f24__1jgBv text-align--left__09f24__3Drs0 text--truncated__09f24__2NCmr\">Chinese</p></a>,\n",
       " <a class=\"link__09f24__1kwXV link-color--black-extra-light__09f24__1BbfY link-size--default__09f24__3xWLF\" href=\"/search?cflt=delis&amp;find_loc=LaCrosse%2C+Wi\" name=\"\" rel=\"\" role=\"link\" target=\"\"><p class=\"text__09f24__2tZKC text-color--inherit__09f24__1jgBv text-align--left__09f24__3Drs0 text--truncated__09f24__2NCmr\">Delis</p></a>,\n",
       " <a class=\"link__09f24__1kwXV link-color--black-extra-light__09f24__1BbfY link-size--default__09f24__3xWLF\" href=\"/search?cflt=hotdogs&amp;find_loc=LaCrosse%2C+Wi\" name=\"\" rel=\"\" role=\"link\" target=\"\"><p class=\"text__09f24__2tZKC text-color--inherit__09f24__1jgBv text-align--left__09f24__3Drs0 text--truncated__09f24__2NCmr\">Fast Food</p></a>,\n",
       " <a class=\"link__09f24__1kwXV link-color--black-extra-light__09f24__1BbfY link-size--default__09f24__3xWLF\" href=\"/search?cflt=hotdog&amp;find_loc=LaCrosse%2C+Wi\" name=\"\" rel=\"\" role=\"link\" target=\"\"><p class=\"text__09f24__2tZKC text-color--inherit__09f24__1jgBv text-align--left__09f24__3Drs0 text--truncated__09f24__2NCmr\">Hot Dogs</p></a>,\n",
       " <a class=\"link__09f24__1kwXV link-color--black-extra-light__09f24__1BbfY link-size--default__09f24__3xWLF\" href=\"/search?cflt=italian&amp;find_loc=LaCrosse%2C+Wi\" name=\"\" rel=\"\" role=\"link\" target=\"\"><p class=\"text__09f24__2tZKC text-color--inherit__09f24__1jgBv text-align--left__09f24__3Drs0 text--truncated__09f24__2NCmr\">Italian</p></a>,\n",
       " <a class=\"link__09f24__1kwXV link-color--black-extra-light__09f24__1BbfY link-size--default__09f24__3xWLF\" href=\"/search?cflt=mexican&amp;find_loc=LaCrosse%2C+Wi\" name=\"\" rel=\"\" role=\"link\" target=\"\"><p class=\"text__09f24__2tZKC text-color--inherit__09f24__1jgBv text-align--left__09f24__3Drs0 text--truncated__09f24__2NCmr\">Mexican</p></a>,\n",
       " <a class=\"link__09f24__1kwXV link-color--black-extra-light__09f24__1BbfY link-size--default__09f24__3xWLF\" href=\"/search?cflt=pizza&amp;find_loc=LaCrosse%2C+Wi\" name=\"\" rel=\"\" role=\"link\" target=\"\"><p class=\"text__09f24__2tZKC text-color--inherit__09f24__1jgBv text-align--left__09f24__3Drs0 text--truncated__09f24__2NCmr\">Pizza</p></a>,\n",
       " <a class=\"link__09f24__1kwXV link-color--black-extra-light__09f24__1BbfY link-size--default__09f24__3xWLF\" href=\"/search?cflt=salad&amp;find_loc=LaCrosse%2C+Wi\" name=\"\" rel=\"\" role=\"link\" target=\"\"><p class=\"text__09f24__2tZKC text-color--inherit__09f24__1jgBv text-align--left__09f24__3Drs0 text--truncated__09f24__2NCmr\">Salad</p></a>,\n",
       " <a class=\"link__09f24__1kwXV link-color--black-extra-light__09f24__1BbfY link-size--default__09f24__3xWLF\" href=\"/search?cflt=sandwiches&amp;find_loc=LaCrosse%2C+Wi\" name=\"\" rel=\"\" role=\"link\" target=\"\"><p class=\"text__09f24__2tZKC text-color--inherit__09f24__1jgBv text-align--left__09f24__3Drs0 text--truncated__09f24__2NCmr\">Sandwiches</p></a>,\n",
       " <a class=\"link__09f24__1kwXV link-color--black-extra-light__09f24__1BbfY link-size--default__09f24__3xWLF\" href=\"/search?cflt=seafood&amp;find_loc=LaCrosse%2C+Wi\" name=\"\" rel=\"\" role=\"link\" target=\"\"><p class=\"text__09f24__2tZKC text-color--inherit__09f24__1jgBv text-align--left__09f24__3Drs0 text--truncated__09f24__2NCmr\">Seafood</p></a>,\n",
       " <a class=\"link__09f24__1kwXV link-color--black-extra-light__09f24__1BbfY link-size--default__09f24__3xWLF\" href=\"/search?cflt=soup&amp;find_loc=LaCrosse%2C+Wi\" name=\"\" rel=\"\" role=\"link\" target=\"\"><p class=\"text__09f24__2tZKC text-color--inherit__09f24__1jgBv text-align--left__09f24__3Drs0 text--truncated__09f24__2NCmr\">Soup</p></a>,\n",
       " <a class=\"link__09f24__1kwXV link-color--black-extra-light__09f24__1BbfY link-size--default__09f24__3xWLF\" href=\"/search?cflt=steak&amp;find_loc=LaCrosse%2C+Wi\" name=\"\" rel=\"\" role=\"link\" target=\"\"><p class=\"text__09f24__2tZKC text-color--inherit__09f24__1jgBv text-align--left__09f24__3Drs0 text--truncated__09f24__2NCmr\">Steakhouses</p></a>,\n",
       " <a class=\"link__09f24__1kwXV link-color--inherit__09f24__3PYlA link-size--default__09f24__3xWLF\" href=\"\" name=\"\" rel=\"button\" role=\"button\" target=\"\">More categories</a>,\n",
       " <a class=\"link__09f24__1kwXV photo-box-link__09f24__28L0f link-color--blue-dark__09f24__2DRa0 link-size--default__09f24__3xWLF\" href=\"/search?cflt=autorepair&amp;find_loc=La+Crosse%2C+WI\" name=\"\" rel=\"\" target=\"\"><img alt=\"\" class=\"photo-box-img__09f24__3F3c5\" height=\"140\" loading=\"lazy\" src=\"https://s3-media0.fl.yelpcdn.com/assets/srv0/yelp_large_assets/6034868c2345/assets/img/promotions/bottom_serp_promos/auto-repair.png\" srcset=\"https://s3-media0.fl.yelpcdn.com/assets/srv0/yelp_large_assets/83352600d24d/assets/img/promotions/bottom_serp_promos/auto-repair@2x.png 2x\" width=\"140\"/></a>,\n",
       " <a class=\"link__09f24__1kwXV photo-box-link__09f24__28L0f link-color--blue-dark__09f24__2DRa0 link-size--default__09f24__3xWLF\" href=\"/search?cflt=dryclean&amp;find_loc=La+Crosse%2C+WI\" name=\"\" rel=\"\" target=\"\"><img alt=\"\" class=\"photo-box-img__09f24__3F3c5\" height=\"140\" loading=\"lazy\" src=\"https://s3-media0.fl.yelpcdn.com/assets/srv0/yelp_large_assets/eecc9693565f/assets/img/promotions/bottom_serp_promos/dry-cleaning.png\" srcset=\"https://s3-media0.fl.yelpcdn.com/assets/srv0/yelp_large_assets/70f1f9df7663/assets/img/promotions/bottom_serp_promos/dry-cleaning@2x.png 2x\" width=\"140\"/></a>,\n",
       " <a class=\"link__09f24__1kwXV photo-box-link__09f24__28L0f link-color--blue-dark__09f24__2DRa0 link-size--default__09f24__3xWLF\" href=\"/search?cflt=handyman&amp;find_loc=La+Crosse%2C+WI\" name=\"\" rel=\"\" target=\"\"><img alt=\"\" class=\"photo-box-img__09f24__3F3c5\" height=\"140\" loading=\"lazy\" src=\"https://s3-media0.fl.yelpcdn.com/assets/srv0/yelp_large_assets/d1acc769053d/assets/img/promotions/bottom_serp_promos/handyman.png\" srcset=\"https://s3-media0.fl.yelpcdn.com/assets/srv0/yelp_large_assets/cd7e865dbafd/assets/img/promotions/bottom_serp_promos/handyman@2x.png 2x\" width=\"140\"/></a>,\n",
       " <a class=\"link__09f24__1kwXV photo-box-link__09f24__28L0f link-color--blue-dark__09f24__2DRa0 link-size--default__09f24__3xWLF\" href=\"/search?cflt=homecleaning&amp;find_loc=La+Crosse%2C+WI\" name=\"\" rel=\"\" target=\"\"><img alt=\"\" class=\"photo-box-img__09f24__3F3c5\" height=\"140\" loading=\"lazy\" src=\"https://s3-media0.fl.yelpcdn.com/assets/srv0/yelp_large_assets/37fc2fd07597/assets/img/promotions/bottom_serp_promos/home-cleaning.png\" srcset=\"https://s3-media0.fl.yelpcdn.com/assets/srv0/yelp_large_assets/8488443958aa/assets/img/promotions/bottom_serp_promos/home-cleaning@2x.png 2x\" width=\"140\"/></a>,\n",
       " <a class=\"link__09f24__1kwXV photo-box-link__09f24__28L0f link-color--blue-dark__09f24__2DRa0 link-size--default__09f24__3xWLF\" href=\"/search?cflt=locksmiths&amp;find_loc=La+Crosse%2C+WI\" name=\"\" rel=\"\" target=\"\"><img alt=\"\" class=\"photo-box-img__09f24__3F3c5\" height=\"140\" loading=\"lazy\" src=\"https://s3-media0.fl.yelpcdn.com/assets/srv0/yelp_large_assets/8127a76a5ca7/assets/img/promotions/bottom_serp_promos/locksmith.png\" srcset=\"https://s3-media0.fl.yelpcdn.com/assets/srv0/yelp_large_assets/be4aa95fa729/assets/img/promotions/bottom_serp_promos/locksmith@2x.png 2x\" width=\"140\"/></a>,\n",
       " <a class=\"link__09f24__1kwXV photo-box-link__09f24__28L0f link-color--blue-dark__09f24__2DRa0 link-size--default__09f24__3xWLF\" href=\"/search?cflt=movers&amp;find_loc=La+Crosse%2C+WI\" name=\"\" rel=\"\" target=\"\"><img alt=\"\" class=\"photo-box-img__09f24__3F3c5\" height=\"140\" loading=\"lazy\" src=\"https://s3-media0.fl.yelpcdn.com/assets/srv0/yelp_large_assets/f47f4f09e501/assets/img/promotions/bottom_serp_promos/mover.png\" srcset=\"https://s3-media0.fl.yelpcdn.com/assets/srv0/yelp_large_assets/ccf558582d6c/assets/img/promotions/bottom_serp_promos/mover@2x.png 2x\" width=\"140\"/></a>,\n",
       " <a class=\"link__09f24__1kwXV photo-box-link__09f24__28L0f link-color--blue-dark__09f24__2DRa0 link-size--default__09f24__3xWLF\" href=\"/search?cflt=oilchange&amp;find_loc=La+Crosse%2C+WI\" name=\"\" rel=\"\" target=\"\"><img alt=\"\" class=\"photo-box-img__09f24__3F3c5\" height=\"140\" loading=\"lazy\" src=\"https://s3-media0.fl.yelpcdn.com/assets/srv0/yelp_large_assets/534bd56a4b80/assets/img/promotions/bottom_serp_promos/oil-change.png\" srcset=\"https://s3-media0.fl.yelpcdn.com/assets/srv0/yelp_large_assets/23d9bd103450/assets/img/promotions/bottom_serp_promos/oil-change@2x.png 2x\" width=\"140\"/></a>,\n",
       " <a class=\"link__09f24__1kwXV photo-box-link__09f24__28L0f link-color--blue-dark__09f24__2DRa0 link-size--default__09f24__3xWLF\" href=\"/search?cflt=mobilephonerepair&amp;find_loc=La+Crosse%2C+WI\" name=\"\" rel=\"\" target=\"\"><img alt=\"\" class=\"photo-box-img__09f24__3F3c5\" height=\"140\" loading=\"lazy\" src=\"https://s3-media0.fl.yelpcdn.com/assets/srv0/yelp_large_assets/762ee5ed157f/assets/img/promotions/bottom_serp_promos/m-phone-repair.png\" srcset=\"https://s3-media0.fl.yelpcdn.com/assets/srv0/yelp_large_assets/1781bd22cf00/assets/img/promotions/bottom_serp_promos/m-phone-repair@2x.png 2x\" width=\"140\"/></a>,\n",
       " <a class=\"link__09f24__1kwXV link-color--black-extra-light__09f24__1BbfY link-size--default__09f24__3xWLF\" href=\"/about\" name=\"\" rel=\"\" target=\"\">About Yelp</a>,\n",
       " <a class=\"link__09f24__1kwXV link-color--black-extra-light__09f24__1BbfY link-size--default__09f24__3xWLF\" href=\"/careers/home\" name=\"\" rel=\"\" target=\"\">Careers</a>,\n",
       " <a class=\"link__09f24__1kwXV link-color--black-extra-light__09f24__1BbfY link-size--default__09f24__3xWLF\" href=\"/press\" name=\"\" rel=\"\" target=\"\">Press</a>,\n",
       " <a class=\"link__09f24__1kwXV link-color--black-extra-light__09f24__1BbfY link-size--default__09f24__3xWLF\" href=\"http://yelp-ir.com/\" name=\"\" rel=\"\" target=\"\">Investor Relations</a>,\n",
       " <a class=\"link__09f24__1kwXV link-color--black-extra-light__09f24__1BbfY link-size--default__09f24__3xWLF\" href=\"/guidelines\" name=\"\" rel=\"\" target=\"\">Content Guidelines</a>,\n",
       " <a class=\"link__09f24__1kwXV link-color--black-extra-light__09f24__1BbfY link-size--default__09f24__3xWLF\" href=\"/static?p=tos\" name=\"\" rel=\"\" target=\"\">Terms of Service</a>,\n",
       " <a class=\"link__09f24__1kwXV link-color--black-extra-light__09f24__1BbfY link-size--default__09f24__3xWLF\" href=\"/tos/privacy_policy\" name=\"\" rel=\"\" target=\"\">Privacy Policy</a>,\n",
       " <a class=\"link__09f24__1kwXV link-color--black-extra-light__09f24__1BbfY link-size--default__09f24__3xWLF\" href=\"/static?p=tos#third-parties\" name=\"\" rel=\"\" target=\"\">Ad Choices</a>,\n",
       " <a class=\"link__09f24__1kwXV link-color--black-extra-light__09f24__1BbfY link-size--default__09f24__3xWLF\" href=\"/costs\" name=\"\" rel=\"\" target=\"\">Yelp Project Cost Guides</a>,\n",
       " <a class=\"link__09f24__1kwXV link-color--black-extra-light__09f24__1BbfY link-size--default__09f24__3xWLF\" href=\"/collections\" name=\"\" rel=\"\" target=\"\">Collections</a>,\n",
       " <a class=\"link__09f24__1kwXV link-color--black-extra-light__09f24__1BbfY link-size--default__09f24__3xWLF\" href=\"/talk\" name=\"\" rel=\"\" target=\"\">Talk</a>,\n",
       " <a class=\"link__09f24__1kwXV link-color--black-extra-light__09f24__1BbfY link-size--default__09f24__3xWLF\" href=\"/events\" name=\"\" rel=\"\" target=\"\">Events</a>,\n",
       " <a class=\"link__09f24__1kwXV link-color--black-extra-light__09f24__1BbfY link-size--default__09f24__3xWLF\" href=\"/local_yelp\" name=\"\" rel=\"\" target=\"\">The Local Yelp</a>,\n",
       " <a class=\"link__09f24__1kwXV link-color--black-extra-light__09f24__1BbfY link-size--default__09f24__3xWLF\" href=\"https://officialblog.yelp.com/\" name=\"\" rel=\"\" target=\"\">Yelp Blog</a>,\n",
       " <a class=\"link__09f24__1kwXV link-color--black-extra-light__09f24__1BbfY link-size--default__09f24__3xWLF\" href=\"https://www.yelp-support.com/\" name=\"\" rel=\"\" target=\"\">Support</a>,\n",
       " <a class=\"link__09f24__1kwXV link-color--black-extra-light__09f24__1BbfY link-size--default__09f24__3xWLF\" href=\"/yelpmobile?source=footer\" name=\"\" rel=\"\" target=\"\">Yelp Mobile</a>,\n",
       " <a class=\"link__09f24__1kwXV link-color--black-extra-light__09f24__1BbfY link-size--default__09f24__3xWLF\" href=\"/developers?country=US\" name=\"\" rel=\"\" target=\"\">Developers</a>,\n",
       " <a class=\"link__09f24__1kwXV link-color--black-extra-light__09f24__1BbfY link-size--default__09f24__3xWLF\" href=\"/rss\" name=\"\" rel=\"\" target=\"\">RSS</a>,\n",
       " <a class=\"link__09f24__1kwXV link-color--black-extra-light__09f24__1BbfY link-size--default__09f24__3xWLF\" href=\"https://biz.yelp.com?utm_source=footer&amp;utm_medium=www&amp;utm_content=claim_footer_link&amp;utm_campaign=claim_business\" name=\"\" rel=\"\" target=\"\">Claim your Business Page</a>,\n",
       " <a class=\"link__09f24__1kwXV link-color--black-extra-light__09f24__1BbfY link-size--default__09f24__3xWLF\" href=\"/advertise\" name=\"\" rel=\"\" target=\"\">Advertise on Yelp</a>,\n",
       " <a class=\"link__09f24__1kwXV link-color--black-extra-light__09f24__1BbfY link-size--default__09f24__3xWLF\" href=\"https://restaurants.yelp.com/\" name=\"\" rel=\"\" target=\"\">Yelp for Restaurant Owners</a>,\n",
       " <a class=\"link__09f24__1kwXV link-color--black-extra-light__09f24__1BbfY link-size--default__09f24__3xWLF\" href=\"https://restaurants.yelp.com/products/waitlist-table-management-software/\" name=\"\" rel=\"\" target=\"\">Table Management</a>,\n",
       " <a class=\"link__09f24__1kwXV link-color--black-extra-light__09f24__1BbfY link-size--default__09f24__3xWLF\" href=\"https://biz.yelp.com/support/case_studies\" name=\"\" rel=\"\" target=\"\">Business Success Stories</a>,\n",
       " <a class=\"link__09f24__1kwXV link-color--black-extra-light__09f24__1BbfY link-size--default__09f24__3xWLF\" href=\"https://www.yelp-support.com/Yelp_for_Business_Owners?l=en_US\" name=\"\" rel=\"\" target=\"\">Business Support</a>,\n",
       " <a class=\"link__09f24__1kwXV link-color--black-extra-light__09f24__1BbfY link-size--default__09f24__3xWLF\" href=\"https://www.yelpblog.com/section/business\" name=\"\" rel=\"\" target=\"\">Yelp Blog for Business</a>,\n",
       " <a aria-expanded=\"false\" aria-haspopup=\"listbox\" class=\"link__09f24__1kwXV link-color--inherit__09f24__3PYlA link-size--default__09f24__3xWLF\" href=\"\" name=\"\" rel=\"\" role=\"button\" target=\"\"><span class=\"display--inline__09f24__3iACj margin-r0-5__09f24__zUVuo border-color--default__09f24__R1nRO\"><span class=\"text__09f24__2tZKC text-color--inherit__09f24__1jgBv text-align--left__09f24__3Drs0\">English</span></span><style data-emotion-css=\"1x8jfzm\">.css-1x8jfzm{width:16px;height:16px;display:inline-block;vertical-align:middle;position:relative;overflow:hidden;top:-0.1em;fill:rgba(117,114,128,1);}.css-1x8jfzm::before{position:absolute;display:block;left:0;}.css-1x8jfzm::after{content:'';display:block;position:absolute;left:0;right:0;top:0;bottom:0;}.css-1x8jfzm svg{position:absolute;width:100%;height:100%;fill:inherit;display:block;left:0;top:0;right:0;bottom:0;}</style><span aria-hidden=\"true\" class=\"icon--16-chevron-down-v2 css-1x8jfzm\"><svg class=\"icon_svg\" height=\"16\" width=\"16\"><path d=\"M8 10.5a1 1 0 01-.7-.29l-3.06-3a1 1 0 111.41-1.42L8 8.1l2.35-2.31a1 1 0 111.41 1.42l-3.06 3a1 1 0 01-.7.29z\"></path></svg></span></a>,\n",
       " <a aria-expanded=\"false\" aria-haspopup=\"listbox\" class=\"link__09f24__1kwXV link-color--inherit__09f24__3PYlA link-size--default__09f24__3xWLF\" href=\"\" name=\"\" rel=\"\" role=\"button\" target=\"\"><span class=\"display--inline__09f24__3iACj margin-r0-5__09f24__zUVuo border-color--default__09f24__R1nRO\"><span class=\"text__09f24__2tZKC text-color--inherit__09f24__1jgBv text-align--left__09f24__3Drs0\">United States</span></span><style data-emotion-css=\"1x8jfzm\">.css-1x8jfzm{width:16px;height:16px;display:inline-block;vertical-align:middle;position:relative;overflow:hidden;top:-0.1em;fill:rgba(117,114,128,1);}.css-1x8jfzm::before{position:absolute;display:block;left:0;}.css-1x8jfzm::after{content:'';display:block;position:absolute;left:0;right:0;top:0;bottom:0;}.css-1x8jfzm svg{position:absolute;width:100%;height:100%;fill:inherit;display:block;left:0;top:0;right:0;bottom:0;}</style><span aria-hidden=\"true\" class=\"icon--16-chevron-down-v2 css-1x8jfzm\"><svg class=\"icon_svg\" height=\"16\" width=\"16\"><path d=\"M8 10.5a1 1 0 01-.7-.29l-3.06-3a1 1 0 111.41-1.42L8 8.1l2.35-2.31a1 1 0 111.41 1.42l-3.06 3a1 1 0 01-.7.29z\"></path></svg></span></a>,\n",
       " <a class=\"link__09f24__1kwXV link-color--blue-dark__09f24__2DRa0 link-size--default__09f24__3xWLF\" href=\"/about\" name=\"\" rel=\"\" target=\"\">About</a>,\n",
       " <a class=\"link__09f24__1kwXV link-color--blue-dark__09f24__2DRa0 link-size--default__09f24__3xWLF\" href=\"https://officialblog.yelp.com/\" name=\"\" rel=\"\" target=\"\">Blog</a>,\n",
       " <a class=\"link__09f24__1kwXV link-color--blue-dark__09f24__2DRa0 link-size--default__09f24__3xWLF\" href=\"https://www.yelp-support.com/\" name=\"\" rel=\"\" target=\"\">Support</a>,\n",
       " <a class=\"link__09f24__1kwXV link-color--blue-dark__09f24__2DRa0 link-size--default__09f24__3xWLF\" href=\"/static?p=tos\" name=\"\" rel=\"\" target=\"\">Terms</a>,\n",
       " <a class=\"link__09f24__1kwXV link-color--blue-dark__09f24__2DRa0 link-size--inherit__09f24__2Uj95\" href=\"http://databyacxiom.com\" name=\"\" rel=\"nofollow\" target=\"_blank\">Some Data By Acxiom</a>]"
      ]
     },
     "execution_count": 22,
     "metadata": {},
     "output_type": "execute_result"
    }
   ],
   "source": [
    "is_ranking = re.compile(r'<d(1,2)>')\n",
    "(restaurants \n",
    ">> find_all(\"a\")\n",
    ")"
   ]
  },
  {
   "cell_type": "code",
   "execution_count": null,
   "metadata": {},
   "outputs": [],
   "source": []
  },
  {
   "cell_type": "markdown",
   "metadata": {},
   "source": [
    "## <font color=\"red\"> Problem 4 </font>\n",
    "\n",
    "Write expressions/functions to gather each of the following pieces of information for each of the restaurants."
   ]
  },
  {
   "cell_type": "markdown",
   "metadata": {},
   "source": [
    "#### Restaurant Name"
   ]
  },
  {
   "cell_type": "code",
   "execution_count": null,
   "metadata": {},
   "outputs": [],
   "source": [
    "get_restaurant_name = (restaurants\n",
    ">> find_all(\"a\",attrs={'name': not_empty})\n",
    ">> map(tlz.get('name'))\n",
    ")"
   ]
  },
  {
   "cell_type": "code",
   "execution_count": null,
   "metadata": {},
   "outputs": [],
   "source": []
  },
  {
   "cell_type": "markdown",
   "metadata": {},
   "source": [
    "#### Rating"
   ]
  },
  {
   "cell_type": "code",
   "execution_count": null,
   "metadata": {},
   "outputs": [],
   "source": []
  },
  {
   "cell_type": "markdown",
   "metadata": {},
   "source": [
    "#### Address"
   ]
  },
  {
   "cell_type": "code",
   "execution_count": 29,
   "metadata": {},
   "outputs": [
    {
     "data": {
      "text/plain": [
       "['The Best 10 Restaurants in La Crosse, WI',\n",
       " '515 Amy Drive',\n",
       " 'Delivery',\n",
       " 'Takeout',\n",
       " 'Offers delivery',\n",
       " '328 Front St S',\n",
       " 'Dine-in',\n",
       " '1810 State St',\n",
       " 'Outdoor Seating',\n",
       " '222 Pearl St',\n",
       " 'Delivery',\n",
       " 'Takeout',\n",
       " 'Dine-in',\n",
       " 'Offers takeout and delivery',\n",
       " '300 3rd St S',\n",
       " 'Takeout',\n",
       " '101 State St',\n",
       " '107 Vine St',\n",
       " 'Delivery',\n",
       " 'Takeout',\n",
       " 'Outdoor Seating',\n",
       " '1128 La Crosse St',\n",
       " 'Delivery',\n",
       " 'Takeout',\n",
       " 'Outdoor Seating',\n",
       " '501 Front St S',\n",
       " 'Delivery',\n",
       " 'Takeout',\n",
       " 'Outdoor Seating',\n",
       " '100 3rd St S',\n",
       " 'Delivery',\n",
       " 'Takeout',\n",
       " 'Outdoor Seating',\n",
       " '321 State St',\n",
       " 'Delivery']"
      ]
     },
     "execution_count": 29,
     "metadata": {},
     "output_type": "execute_result"
    }
   ],
   "source": [
    "(restaurants\n",
    ">> find_all(\"span\", attrs = {\"class\":\"raw__09f24__3Obuy\"})\n",
    ">> map(get_text)\n",
    ">>\n",
    ")"
   ]
  },
  {
   "cell_type": "markdown",
   "metadata": {},
   "source": [
    "#### Review Count"
   ]
  },
  {
   "cell_type": "code",
   "execution_count": 55,
   "metadata": {},
   "outputs": [
    {
     "data": {
      "text/plain": [
       "['3 star rating',\n",
       " '4.5 star rating',\n",
       " '4.5 star rating',\n",
       " '4 star rating',\n",
       " '4.5 star rating',\n",
       " '4.5 star rating',\n",
       " '4 star rating',\n",
       " '4 star rating',\n",
       " '4 star rating',\n",
       " '3.5 star rating',\n",
       " '4.5 star rating']"
      ]
     },
     "execution_count": 55,
     "metadata": {},
     "output_type": "execute_result"
    }
   ],
   "source": [
    "star_rating = re.compile(r'\\d+ star rating')\n",
    "(restaurants\n",
    " >> find_all(\"div\",attrs={\"aria-label\":star_rating})\n",
    " >> map(tlz.get(\"aria-label\"))\n",
    ")"
   ]
  },
  {
   "cell_type": "markdown",
   "metadata": {},
   "source": [
    "#### Category\n",
    "\n",
    "**Examples:** `['American (New)', 'Seafood', 'Steakhouses']` becomes `'American (New);Seafood;Steakhouses'`"
   ]
  },
  {
   "cell_type": "code",
   "execution_count": 59,
   "metadata": {
    "scrolled": true
   },
   "outputs": [
    {
     "data": {
      "text/plain": [
       "['Yelp',\n",
       " 'La Crosse',\n",
       " 'Restaurants',\n",
       " 'Pizza',\n",
       " 'American (New)',\n",
       " 'Seafood',\n",
       " 'Steakhouses',\n",
       " 'American (Traditional)',\n",
       " 'American (Traditional)',\n",
       " 'Cajun/Creole',\n",
       " 'American (New)',\n",
       " 'French',\n",
       " 'Cocktail Bars',\n",
       " 'Seafood',\n",
       " 'Steakhouses',\n",
       " 'Desserts',\n",
       " 'American (New)',\n",
       " 'Pubs',\n",
       " 'Steakhouses',\n",
       " 'Seafood',\n",
       " 'Sandwiches',\n",
       " 'American (Traditional)',\n",
       " 'Gastropubs',\n",
       " 'Butcher',\n",
       " 'Delis',\n",
       " 'Caterers',\n",
       " '2',\n",
       " '3',\n",
       " '4',\n",
       " '5',\n",
       " '6',\n",
       " '7',\n",
       " '8',\n",
       " '9',\n",
       " '',\n",
       " 'Carry Out',\n",
       " 'Cheap Dinner',\n",
       " 'Cheap Eats',\n",
       " 'Everything',\n",
       " 'Family Restaurant',\n",
       " 'Local Favorite Restaurants',\n",
       " 'Open Now',\n",
       " 'Pickup',\n",
       " 'Piggys',\n",
       " 'Restaurants & Food',\n",
       " 'Restaurants Downtown',\n",
       " 'Restaurants Near Me',\n",
       " 'Restaurants Open Late',\n",
       " 'Take Out',\n",
       " 'Waterfront Restaurants',\n",
       " 'American (New)',\n",
       " 'American (Traditional)',\n",
       " 'Breakfast & Brunch',\n",
       " 'Burgers',\n",
       " 'Cafes',\n",
       " 'Chicken Wings',\n",
       " 'Chinese',\n",
       " 'Delis',\n",
       " 'Fast Food',\n",
       " 'Hot Dogs',\n",
       " 'Italian',\n",
       " 'Mexican',\n",
       " 'Pizza',\n",
       " 'Salad',\n",
       " 'Sandwiches',\n",
       " 'Seafood',\n",
       " 'Soup',\n",
       " 'Steakhouses']"
      ]
     },
     "execution_count": 59,
     "metadata": {},
     "output_type": "execute_result"
    }
   ],
   "source": [
    "(restaurants\n",
    ">>find_all(\"a\",attrs={\"role\":\"link\"})\n",
    ">> map(get_text)\n",
    ")"
   ]
  },
  {
   "cell_type": "code",
   "execution_count": null,
   "metadata": {},
   "outputs": [],
   "source": []
  },
  {
   "cell_type": "code",
   "execution_count": null,
   "metadata": {},
   "outputs": [],
   "source": []
  },
  {
   "cell_type": "markdown",
   "metadata": {},
   "source": [
    "## <font color=\"red\">  Problem 4 </font>\n",
    "\n",
    "Package all of the expressions in a function that takes a url as input and returns the table of information.  Use a `def` statement and put the above helper functions in the body of the main function.  Test this function on the front page of the search."
   ]
  },
  {
   "cell_type": "code",
   "execution_count": null,
   "metadata": {},
   "outputs": [],
   "source": []
  },
  {
   "cell_type": "markdown",
   "metadata": {},
   "source": [
    "## <font color=\"red\">  Problem 5 </font>\n",
    "\n",
    "Now perform a linear search to grab all of the information on restaurants in La Crosse.  You will need to\n",
    "\n",
    "1. Inspect the url for the first, second, etc. pages to determine the pattern.\n",
    "2. Create a list of urls for all search results.\n",
    "3. Get the info from all pages and use your function from the last problem to parse the data into a list.\n",
    "4. Write the results to a csv file. **Hint:** Use `'a'` (append) instead of `'w'` write on all after the first/"
   ]
  },
  {
   "cell_type": "code",
   "execution_count": null,
   "metadata": {},
   "outputs": [],
   "source": []
  },
  {
   "cell_type": "markdown",
   "metadata": {},
   "source": [
    "## <font color=\"red\">  Bonus Problem </font>\n",
    "\n",
    "See if you can also grab the latitude and longitude of each result."
   ]
  },
  {
   "cell_type": "code",
   "execution_count": null,
   "metadata": {},
   "outputs": [],
   "source": []
  }
 ],
 "metadata": {
  "anaconda-cloud": {},
  "kernelspec": {
   "display_name": "Python 3",
   "language": "python",
   "name": "python3"
  },
  "language_info": {
   "codemirror_mode": {
    "name": "ipython",
    "version": 3
   },
   "file_extension": ".py",
   "mimetype": "text/x-python",
   "name": "python",
   "nbconvert_exporter": "python",
   "pygments_lexer": "ipython3",
   "version": "3.7.6"
  }
 },
 "nbformat": 4,
 "nbformat_minor": 1
}
