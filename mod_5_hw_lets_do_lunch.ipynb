{
 "cells": [
  {
   "cell_type": "markdown",
   "metadata": {},
   "source": [
    "# Module 5 Homework - Let's Get Lunch\n",
    "\n",
    "Suppose we are looking for a good place for lunch on our next trip to La Crosse. Let's collect some data on nearby restaurants."
   ]
  },
  {
   "cell_type": "markdown",
   "metadata": {},
   "source": [
    "## <font color=\"red\"> Problem 1 </font>\n",
    "\n",
    "Goto yelp.com and perform a search with the following parameters\n",
    "\n",
    "* **Find** Restaurants\n",
    "* **Near** La Crosse, WI\n",
    "\n",
    "**Tasks**\n",
    "1. Copy the resulting web address below and determine the how the     specified search terms related to the resulting address\n",
    "2. Use requests and Beautiful Soap to download the content of the front page."
   ]
  },
  {
   "cell_type": "code",
   "execution_count": 1,
   "metadata": {},
   "outputs": [
    {
     "name": "stdout",
     "output_type": "stream",
     "text": [
      "Requirement already satisfied: composable in /home/pc7482yh/.pyenv/versions/anaconda3-2020.02/lib/python3.7/site-packages (0.2.5)\n",
      "Requirement already satisfied: python-forge<19.0,>=18.6 in /home/pc7482yh/.pyenv/versions/anaconda3-2020.02/lib/python3.7/site-packages (from composable) (18.6.0)\n",
      "Requirement already satisfied: toolz<0.12.0,>=0.11.1 in /home/pc7482yh/.pyenv/versions/anaconda3-2020.02/lib/python3.7/site-packages (from composable) (0.11.1)\n",
      "Requirement already satisfied: composablesoup in /home/pc7482yh/.pyenv/versions/anaconda3-2020.02/lib/python3.7/site-packages (0.2.4)\n",
      "Requirement already satisfied: python-forge<19.0,>=18.6 in /home/pc7482yh/.pyenv/versions/anaconda3-2020.02/lib/python3.7/site-packages (from composablesoup) (18.6.0)\n",
      "Requirement already satisfied: beautifulsoup4<5.0.0,>=4.9.3 in /home/pc7482yh/.pyenv/versions/anaconda3-2020.02/lib/python3.7/site-packages (from composablesoup) (4.9.3)\n",
      "Requirement already satisfied: composable<0.3.0,>=0.2.0 in /home/pc7482yh/.pyenv/versions/anaconda3-2020.02/lib/python3.7/site-packages (from composablesoup) (0.2.5)\n",
      "Requirement already satisfied: soupsieve>1.2; python_version >= \"3.0\" in /home/pc7482yh/.pyenv/versions/anaconda3-2020.02/lib/python3.7/site-packages (from beautifulsoup4<5.0.0,>=4.9.3->composablesoup) (1.9.5)\n",
      "Requirement already satisfied: toolz<0.12.0,>=0.11.1 in /home/pc7482yh/.pyenv/versions/anaconda3-2020.02/lib/python3.7/site-packages (from composable<0.3.0,>=0.2.0->composablesoup) (0.11.1)\n",
      "Requirement already up-to-date: composable in /home/pc7482yh/.pyenv/versions/anaconda3-2020.02/lib/python3.7/site-packages (0.2.5)\n",
      "Requirement already satisfied, skipping upgrade: python-forge<19.0,>=18.6 in /home/pc7482yh/.pyenv/versions/anaconda3-2020.02/lib/python3.7/site-packages (from composable) (18.6.0)\n",
      "Requirement already satisfied, skipping upgrade: toolz<0.12.0,>=0.11.1 in /home/pc7482yh/.pyenv/versions/anaconda3-2020.02/lib/python3.7/site-packages (from composable) (0.11.1)\n",
      "Requirement already up-to-date: composablesoup in /home/pc7482yh/.pyenv/versions/anaconda3-2020.02/lib/python3.7/site-packages (0.2.4)\n",
      "Requirement already satisfied, skipping upgrade: composable<0.3.0,>=0.2.0 in /home/pc7482yh/.pyenv/versions/anaconda3-2020.02/lib/python3.7/site-packages (from composablesoup) (0.2.5)\n",
      "Requirement already satisfied, skipping upgrade: python-forge<19.0,>=18.6 in /home/pc7482yh/.pyenv/versions/anaconda3-2020.02/lib/python3.7/site-packages (from composablesoup) (18.6.0)\n",
      "Requirement already satisfied, skipping upgrade: beautifulsoup4<5.0.0,>=4.9.3 in /home/pc7482yh/.pyenv/versions/anaconda3-2020.02/lib/python3.7/site-packages (from composablesoup) (4.9.3)\n",
      "Requirement already satisfied, skipping upgrade: toolz<0.12.0,>=0.11.1 in /home/pc7482yh/.pyenv/versions/anaconda3-2020.02/lib/python3.7/site-packages (from composable<0.3.0,>=0.2.0->composablesoup) (0.11.1)\n",
      "Requirement already satisfied, skipping upgrade: soupsieve>1.2; python_version >= \"3.0\" in /home/pc7482yh/.pyenv/versions/anaconda3-2020.02/lib/python3.7/site-packages (from beautifulsoup4<5.0.0,>=4.9.3->composablesoup) (1.9.5)\n"
     ]
    }
   ],
   "source": [
    "# Install if needed\n",
    "!pip install composable\n",
    "!pip install composablesoup\n",
    "# Check for upgrade is already installed\n",
    "!pip install composable --upgrade\n",
    "!pip install composablesoup --upgrade\n",
    "from composable import pipeable\n",
    "from composable.strict import map, filter\n",
    "from composablesoup import find, find_all, get_text, has_attr\n",
    "from composablesoup.soup import find_parent, parents, children, find_previous_sibling, find_previous_siblings, find_next_sibling, find_next_siblings, find_previous_sibling\n",
    "from composable.sequence import to_list, head\n",
    "from composable.string import strip,replace, split\n",
    "from composable import from_toolz as tlz"
   ]
  },
  {
   "cell_type": "code",
   "execution_count": 2,
   "metadata": {},
   "outputs": [],
   "source": [
    "import requests\n",
    "from bs4 import BeautifulSoup\n",
    "s = requests.Session()\n",
    "r = s.get('https://www.yelp.com/search?cflt=restaurants&find_loc=LaCrosse%2C%20Wi')\n",
    "restaurants = BeautifulSoup(r.content, 'html.parser')"
   ]
  },
  {
   "cell_type": "markdown",
   "metadata": {
    "collapsed": true
   },
   "source": [
    "## <font color=\"red\"> Problem 2 </font>\n",
    "\n",
    "We want to grab the restaurant's name.\n",
    "\n",
    "1. Use Inspect Element to determine the tags/classes for each of the elements listed above.  \n",
    "2. Note that all the business information is contained in a`div` that contains a class similar to  `<div class=\" ... businessName__09f24__3Wql2 ...\">`.  You will need to use a regular expression to match the `businessName` in the class (see lecture 5.3).\n",
    "3. Write expressions/functions to pull out the name of each restaurant.  \n",
    "    * Note: The business name is in an unnamed tag, you will need to navigate to the using searches and/or relationship\n",
    " \n",
    "**Confirm that there is an extra restaurant in the list (e.g. 11-12 instead of 10). This is due to an advertisement/sponsered links, which we want to ignore.**"
   ]
  },
  {
   "cell_type": "code",
   "execution_count": 3,
   "metadata": {},
   "outputs": [],
   "source": [
    "import re\n",
    "not_empty = re.compile(r'.+')\n",
    "restaurant_name = (restaurants\n",
    ">> find_all(\"a\",attrs={'name': not_empty})\n",
    ">> map(tlz.get('name'))\n",
    ")"
   ]
  },
  {
   "cell_type": "code",
   "execution_count": 4,
   "metadata": {},
   "outputs": [
    {
     "data": {
      "text/plain": [
       "['Pappi’s Taqueria y Mas',\n",
       " 'The Waterfront Restaurant & Tavern',\n",
       " 'Restore Public House',\n",
       " 'Buzzard Billy’s',\n",
       " 'Lovechild Restaurant',\n",
       " 'The Charmant',\n",
       " 'The Freighthouse Restaurant',\n",
       " 'Howie’s on La Crosse',\n",
       " 'Piggy’s Restaurant',\n",
       " 'The Crow',\n",
       " 'Schuby’s Neighborhood Butcher']"
      ]
     },
     "execution_count": 4,
     "metadata": {},
     "output_type": "execute_result"
    }
   ],
   "source": [
    "restaurant_name"
   ]
  },
  {
   "cell_type": "code",
   "execution_count": null,
   "metadata": {},
   "outputs": [],
   "source": []
  },
  {
   "cell_type": "code",
   "execution_count": null,
   "metadata": {},
   "outputs": [],
   "source": []
  },
  {
   "cell_type": "code",
   "execution_count": null,
   "metadata": {},
   "outputs": [],
   "source": []
  },
  {
   "cell_type": "code",
   "execution_count": null,
   "metadata": {},
   "outputs": [],
   "source": []
  },
  {
   "cell_type": "code",
   "execution_count": null,
   "metadata": {},
   "outputs": [],
   "source": []
  },
  {
   "cell_type": "markdown",
   "metadata": {},
   "source": [
    "## <font color=\"red\"> Problem 3 </font>\n",
    "\n",
    "Since we picked up extra information, we will need to be clever about identifying the information block for each restaurant.  Note that all of the actual search results (but not sponsered links) start with the ranking (e.g. `11.`).  Use the following steps to get a list that contains the information for each restaurant other than the adds.\n",
    "\n",
    "1. Start by finding the ranking of the restaurant (1., 2., etc.). **Hint:** You will need to use regular expression to match the text of the tag (see lecture 5.3).\n",
    "2. Now search for a parent of the above tags that surrounds all of the restaurant information.  You will want to use the `find_parent` method on each of the tags from **1.**.  **Hint:** Look through each of the `div` tags that contain the ranking, looking for a meaningful tag name to match with a regular expression.\n",
    "\n",
    "The resulting list will be the starting point for gathering all of the information."
   ]
  },
  {
   "cell_type": "code",
   "execution_count": 29,
   "metadata": {},
   "outputs": [],
   "source": [
    "is_ranking=re.compile(r'black-regular')\n",
    "restaurant_ranking = (restaurants\n",
    "                        >> find_all('span',attrs={'class':is_ranking})\n",
    "                        >> map(get_text)\n",
    "                     )\n",
    "rank_filter = re.compile(r'\\d{1,2}')\n",
    "rankings = [line for line in restaurant_ranking if rank_filter.match(line)]\n",
    "final_rank_name = [line.replace('\\xa0',\" \") for line in rankings]"
   ]
  },
  {
   "cell_type": "code",
   "execution_count": 30,
   "metadata": {},
   "outputs": [
    {
     "data": {
      "text/plain": [
       "['1. The Waterfront Restaurant & Tavern',\n",
       " '2. Restore Public House',\n",
       " '3. Buzzard Billy’s',\n",
       " '4. Lovechild Restaurant',\n",
       " '5. The Charmant',\n",
       " '6. The Freighthouse Restaurant',\n",
       " '7. Howie’s on La Crosse',\n",
       " '8. Piggy’s Restaurant',\n",
       " '9. The Crow',\n",
       " '10. Schuby’s Neighborhood Butcher']"
      ]
     },
     "execution_count": 30,
     "metadata": {},
     "output_type": "execute_result"
    }
   ],
   "source": [
    "final_rank_name"
   ]
  },
  {
   "cell_type": "markdown",
   "metadata": {},
   "source": [
    "## <font color=\"red\"> Problem 4 </font>\n",
    "\n",
    "Write expressions/functions to gather each of the following pieces of information for each of the restaurants."
   ]
  },
  {
   "cell_type": "markdown",
   "metadata": {},
   "source": [
    "#### Restaurant Name"
   ]
  },
  {
   "cell_type": "code",
   "execution_count": 6,
   "metadata": {},
   "outputs": [],
   "source": [
    "get_restaurant_name = (restaurants\n",
    ">> find_all(\"a\",attrs={'name': not_empty})\n",
    ">> map(tlz.get('name'))\n",
    ")"
   ]
  },
  {
   "cell_type": "code",
   "execution_count": 26,
   "metadata": {},
   "outputs": [
    {
     "data": {
      "text/plain": [
       "['Pappi’s Taqueria y Mas',\n",
       " 'The Waterfront Restaurant & Tavern',\n",
       " 'Restore Public House',\n",
       " 'Buzzard Billy’s',\n",
       " 'Lovechild Restaurant',\n",
       " 'The Charmant',\n",
       " 'The Freighthouse Restaurant',\n",
       " 'Howie’s on La Crosse',\n",
       " 'Piggy’s Restaurant',\n",
       " 'The Crow',\n",
       " 'Schuby’s Neighborhood Butcher']"
      ]
     },
     "execution_count": 26,
     "metadata": {},
     "output_type": "execute_result"
    }
   ],
   "source": [
    "get_restaurant_name"
   ]
  },
  {
   "cell_type": "markdown",
   "metadata": {},
   "source": [
    "#### Rating"
   ]
  },
  {
   "cell_type": "code",
   "execution_count": 31,
   "metadata": {},
   "outputs": [],
   "source": [
    "star_rating = re.compile(r'\\d+ star rating')\n",
    "review_ranking = (restaurants\n",
    "                    >> find_all('div',attrs={'aria-label':star_rating})\n",
    "                    >> map(tlz.get('aria-label'))\n",
    "                 )"
   ]
  },
  {
   "cell_type": "code",
   "execution_count": 32,
   "metadata": {},
   "outputs": [
    {
     "data": {
      "text/plain": [
       "['4 star rating',\n",
       " '4.5 star rating',\n",
       " '4.5 star rating',\n",
       " '4 star rating',\n",
       " '4.5 star rating',\n",
       " '4.5 star rating',\n",
       " '4 star rating',\n",
       " '4 star rating',\n",
       " '4 star rating',\n",
       " '3.5 star rating',\n",
       " '4.5 star rating']"
      ]
     },
     "execution_count": 32,
     "metadata": {},
     "output_type": "execute_result"
    }
   ],
   "source": [
    "review_ranking"
   ]
  },
  {
   "cell_type": "markdown",
   "metadata": {},
   "source": [
    "#### Address"
   ]
  },
  {
   "cell_type": "code",
   "execution_count": 24,
   "metadata": {},
   "outputs": [],
   "source": [
    "find_address = re.compile(r'raw_')\n",
    "restaurant_address_search = (restaurants\n",
    "                                 >> find_all('span',attrs={'class':find_address})\n",
    "                                 >> map(get_text)\n",
    "                                 )\n",
    "address_filter = re.compile(r'\\d{1,4}.*')\n",
    "restaurant_address = [line for line in restaurant_address_search if address_filter.match(line)]"
   ]
  },
  {
   "cell_type": "code",
   "execution_count": 38,
   "metadata": {},
   "outputs": [
    {
     "data": {
      "text/plain": [
       "['328 Front St S',\n",
       " '1810 State St',\n",
       " '222 Pearl St',\n",
       " '300 3rd St S',\n",
       " '101 State St',\n",
       " '107 Vine St',\n",
       " '1128 La Crosse St',\n",
       " '501 Front St S',\n",
       " '100 3rd St S',\n",
       " '321 State St']"
      ]
     },
     "execution_count": 38,
     "metadata": {},
     "output_type": "execute_result"
    }
   ],
   "source": [
    "restaurant_address[1:]"
   ]
  },
  {
   "cell_type": "markdown",
   "metadata": {},
   "source": [
    "#### Review Count"
   ]
  },
  {
   "cell_type": "code",
   "execution_count": 33,
   "metadata": {},
   "outputs": [],
   "source": [
    "find_review_count = re.compile(r'reviewCount_')\n",
    "restaurant_review_count = (restaurants\n",
    "                            >> find_all('span',attrs={'class':find_review_count})\n",
    "                            >> map(get_text)\n",
    "                          )"
   ]
  },
  {
   "cell_type": "code",
   "execution_count": 34,
   "metadata": {},
   "outputs": [
    {
     "data": {
      "text/plain": [
       "['2', '226', '17', '275', '109', '149', '125', '57', '131', '154', '17']"
      ]
     },
     "execution_count": 34,
     "metadata": {},
     "output_type": "execute_result"
    }
   ],
   "source": [
    "restaurant_review_count"
   ]
  },
  {
   "cell_type": "markdown",
   "metadata": {},
   "source": [
    "#### Category\n",
    "\n",
    "**Examples:** `['American (New)', 'Seafood', 'Steakhouses']` becomes `'American (New);Seafood;Steakhouses'`"
   ]
  },
  {
   "cell_type": "code",
   "execution_count": 9,
   "metadata": {
    "scrolled": true
   },
   "outputs": [
    {
     "data": {
      "text/plain": [
       "['Yelp',\n",
       " 'La Crosse',\n",
       " 'Restaurants',\n",
       " 'Food Trucks',\n",
       " 'Mexican',\n",
       " 'American (New)',\n",
       " 'Seafood',\n",
       " 'Steakhouses',\n",
       " 'American (Traditional)',\n",
       " 'American (Traditional)',\n",
       " 'Cajun/Creole',\n",
       " 'American (New)',\n",
       " 'French',\n",
       " 'Cocktail Bars',\n",
       " 'Seafood',\n",
       " 'Steakhouses',\n",
       " 'Desserts',\n",
       " 'American (New)',\n",
       " 'Pubs',\n",
       " 'Steakhouses',\n",
       " 'Seafood',\n",
       " 'Sandwiches',\n",
       " 'American (Traditional)',\n",
       " 'Gastropubs',\n",
       " 'Butcher',\n",
       " 'Delis',\n",
       " 'Caterers',\n",
       " '2',\n",
       " '3',\n",
       " '4',\n",
       " '5',\n",
       " '6',\n",
       " '7',\n",
       " '8',\n",
       " '9',\n",
       " '',\n",
       " 'Carry Out',\n",
       " 'Cheap Dinner',\n",
       " 'Cheap Eats',\n",
       " 'Everything',\n",
       " 'Family Restaurant',\n",
       " 'Local Favorite Restaurants',\n",
       " 'Open Now',\n",
       " 'Pickup',\n",
       " 'Piggys',\n",
       " 'Restaurants & Food',\n",
       " 'Restaurants Downtown',\n",
       " 'Restaurants Near Me',\n",
       " 'Restaurants Open Late',\n",
       " 'Take Out',\n",
       " 'Waterfront Restaurants',\n",
       " 'American (New)',\n",
       " 'American (Traditional)',\n",
       " 'Breakfast & Brunch',\n",
       " 'Burgers',\n",
       " 'Cafes',\n",
       " 'Chicken Wings',\n",
       " 'Chinese',\n",
       " 'Delis',\n",
       " 'Fast Food',\n",
       " 'Hot Dogs',\n",
       " 'Italian',\n",
       " 'Mexican',\n",
       " 'Pizza',\n",
       " 'Salad',\n",
       " 'Sandwiches',\n",
       " 'Seafood',\n",
       " 'Soup',\n",
       " 'Steakhouses']"
      ]
     },
     "execution_count": 9,
     "metadata": {},
     "output_type": "execute_result"
    }
   ],
   "source": [
    "(restaurants\n",
    ">>find_all(\"a\",attrs={\"role\":\"link\"})\n",
    ">> map(get_text)\n",
    ")"
   ]
  },
  {
   "cell_type": "code",
   "execution_count": null,
   "metadata": {},
   "outputs": [],
   "source": []
  },
  {
   "cell_type": "code",
   "execution_count": null,
   "metadata": {},
   "outputs": [],
   "source": []
  },
  {
   "cell_type": "markdown",
   "metadata": {},
   "source": [
    "## <font color=\"red\">  Problem 4 </font>\n",
    "\n",
    "Package all of the expressions in a function that takes a url as input and returns the table of information.  Use a `def` statement and put the above helper functions in the body of the main function.  Test this function on the front page of the search."
   ]
  },
  {
   "cell_type": "code",
   "execution_count": 76,
   "metadata": {},
   "outputs": [],
   "source": [
    "def web_scrape(website):\n",
    "    import requests\n",
    "    from bs4 import BeautifulSoup\n",
    "    \n",
    "    s = requests.Session()\n",
    "    r = s.get(website)\n",
    "    site = BeautifulSoup(r.content,\"html.parser\")\n",
    "    \n",
    "    is_ranking=re.compile(r'black-regular')\n",
    "    restaurant_ranking = (site\n",
    "                          >> find_all('span',attrs={'class':is_ranking})\n",
    "                          >> map(get_text)\n",
    "                          )\n",
    "    rank_filter = re.compile(r'\\d{1,2}')\n",
    "    rankings = [line for line in restaurant_ranking if rank_filter.match(line)]\n",
    "    final_rank_name = [line.replace('\\xa0',\" \") for line in rankings]\n",
    "    \n",
    "    star_rating = re.compile(r'\\d+ star rating')\n",
    "    review_ranking = (site\n",
    "                     >> find_all('div',attrs={'aria-label':star_rating})\n",
    "                     >> map(tlz.get('aria-label'))\n",
    "                     )\n",
    "    review_ranking = review_ranking[1:]\n",
    "    find_address = re.compile(r'raw_')\n",
    "    restaurant_address_search = (site\n",
    "                                 >> find_all('span',attrs={'class':find_address})\n",
    "                                 >> map(get_text)\n",
    "                                 )\n",
    "    address_filter = re.compile(r'\\d{1,4}.*')\n",
    "    restaurant_address = [line for line in restaurant_address_search if address_filter.match(line)]\n",
    "    restaurant_address = restaurant_address[1:]\n",
    "    \n",
    "    find_review_count = re.compile(r'reviewCount_')\n",
    "    restaurant_review_count = (site\n",
    "                               >> find_all('span',attrs={'class':find_review_count})\n",
    "                               >> map(get_text)\n",
    "                               )\n",
    "    restaurant_review_count = restaurant_review_count[1:]\n",
    "    find_category = re.compile(r'priceCategory')\n",
    "    restaurant_category = (site\n",
    "                    >> find_all('div', attrs={'class':find_category})\n",
    "                    >> map(get_text)\n",
    "                    )\n",
    "    restaurant_category = restaurant_category[1:]\n",
    "    category_filter = [line.replace(\"$\",\"\") for line in restaurant_category]\n",
    "    category_semi = [line.replace(\",\",\";\") for line in category_filter]\n",
    "    \n",
    "    output = list(zip(final_rank_name, review_ranking, restaurant_address,restaurant_review_count, category_semi))\n",
    "    joined = [\",\".join(line) for line in output]\n",
    "    final = '\\n'.join(joined)\n",
    "    return final\n",
    "    "
   ]
  },
  {
   "cell_type": "code",
   "execution_count": 77,
   "metadata": {},
   "outputs": [
    {
     "data": {
      "text/plain": [
       "'1. The Waterfront Restaurant & Tavern,4.5 star rating,328 Front St S,226,American (New); Seafood; Steakhouses\\n2. Buzzard Billy’s,4 star rating,222 Pearl St,276,American (Traditional); Cajun/Creole\\n3. Restore Public House,4.5 star rating,1810 State St,17,American (Traditional)\\n4. Lovechild Restaurant,4.5 star rating,300 3rd St S,109,American (New)\\n5. The Charmant,4.5 star rating,101 State St,149,French; Cocktail Bars\\n6. The Freighthouse Restaurant,4 star rating,107 Vine St,125,Seafood; Steakhouses; Desserts\\n7. Howie’s on La Crosse,4 star rating,1128 La Crosse St,57,American (New); Pubs\\n8. The Crow,3.5 star rating,100 3rd St S,154,American (Traditional); Gastropubs\\n9. Piggy’s Restaurant,4 star rating,501 Front St S,131,Steakhouses; Seafood; Sandwiches\\n10. Schuby’s Neighborhood Butcher,4.5 star rating,321 State St,17,Butcher; Delis; Caterers'"
      ]
     },
     "execution_count": 77,
     "metadata": {},
     "output_type": "execute_result"
    }
   ],
   "source": [
    "web_scrape('https://www.yelp.com/search?find_desc=Restaurants&find_loc=La%20Crosse%2C%20WI&start=0')"
   ]
  },
  {
   "cell_type": "markdown",
   "metadata": {},
   "source": [
    "## <font color=\"red\">  Problem 5 </font>\n",
    "\n",
    "Now perform a linear search to grab all of the information on restaurants in La Crosse.  You will need to\n",
    "\n",
    "1. Inspect the url for the first, second, etc. pages to determine the pattern.\n",
    "2. Create a list of urls for all search results.\n",
    "3. Get the info from all pages and use your function from the last problem to parse the data into a list.\n",
    "4. Write the results to a csv file. **Hint:** Use `'a'` (append) instead of `'w'` write on all after the first/"
   ]
  },
  {
   "cell_type": "code",
   "execution_count": 51,
   "metadata": {},
   "outputs": [
    {
     "data": {
      "text/plain": [
       "['/search?cflt=restaurants&find_loc=LaCrosse%2C%20Wi&start=10',\n",
       " '/search?cflt=restaurants&find_loc=LaCrosse%2C%20Wi&start=20',\n",
       " '/search?cflt=restaurants&find_loc=LaCrosse%2C%20Wi&start=30',\n",
       " '/search?cflt=restaurants&find_loc=LaCrosse%2C%20Wi&start=40',\n",
       " '/search?cflt=restaurants&find_loc=LaCrosse%2C%20Wi&start=50',\n",
       " '/search?cflt=restaurants&find_loc=LaCrosse%2C%20Wi&start=60',\n",
       " '/search?cflt=restaurants&find_loc=LaCrosse%2C%20Wi&start=70',\n",
       " '/search?cflt=restaurants&find_loc=LaCrosse%2C%20Wi&start=80']"
      ]
     },
     "execution_count": 51,
     "metadata": {},
     "output_type": "execute_result"
    }
   ],
   "source": [
    "webpage=re.compile(r'pagination-link')\n",
    "link = (restaurants\n",
    "           >> find_all('a',attrs={'class':webpage})\n",
    "           >> map(tlz.get('href'))\n",
    "           )\n",
    "link"
   ]
  },
  {
   "cell_type": "code",
   "execution_count": 73,
   "metadata": {},
   "outputs": [
    {
     "data": {
      "text/plain": [
       "['https://www.yelp.com/search?cflt=restaurants&find_loc=LaCrosse%2C%20Wi&start=10',\n",
       " 'https://www.yelp.com/search?cflt=restaurants&find_loc=LaCrosse%2C%20Wi&start=20',\n",
       " 'https://www.yelp.com/search?cflt=restaurants&find_loc=LaCrosse%2C%20Wi&start=30',\n",
       " 'https://www.yelp.com/search?cflt=restaurants&find_loc=LaCrosse%2C%20Wi&start=40',\n",
       " 'https://www.yelp.com/search?cflt=restaurants&find_loc=LaCrosse%2C%20Wi&start=50',\n",
       " 'https://www.yelp.com/search?cflt=restaurants&find_loc=LaCrosse%2C%20Wi&start=60',\n",
       " 'https://www.yelp.com/search?cflt=restaurants&find_loc=LaCrosse%2C%20Wi&start=70',\n",
       " 'https://www.yelp.com/search?cflt=restaurants&find_loc=LaCrosse%2C%20Wi&start=80']"
      ]
     },
     "execution_count": 73,
     "metadata": {},
     "output_type": "execute_result"
    }
   ],
   "source": [
    "https = [line.replace(\"/\",\"https://www.yelp.com/\") for line in link]\n",
    "https"
   ]
  },
  {
   "cell_type": "code",
   "execution_count": 65,
   "metadata": {},
   "outputs": [],
   "source": [
    "first_10 = web_scrape('https://www.yelp.com/search?find_desc=Restaurants&find_loc=La%20Crosse%2C%20WI&start=0')"
   ]
  },
  {
   "cell_type": "code",
   "execution_count": 66,
   "metadata": {},
   "outputs": [
    {
     "data": {
      "text/plain": [
       "['1. The Waterfront Restaurant & Tavern,4.5 star rating,328 Front St S,226,American (New); Seafood; Steakhouses',\n",
       " '2. Buzzard Billy’s,4 star rating,222 Pearl St,276,American (Traditional); Cajun/Creole',\n",
       " '3. Restore Public House,4.5 star rating,1810 State St,17,American (Traditional)',\n",
       " '4. Lovechild Restaurant,4.5 star rating,300 3rd St S,109,American (New)',\n",
       " '5. The Charmant,4.5 star rating,101 State St,149,French; Cocktail Bars',\n",
       " '6. The Freighthouse Restaurant,4 star rating,107 Vine St,125,Seafood; Steakhouses; Desserts',\n",
       " '7. Howie’s on La Crosse,4 star rating,1128 La Crosse St,57,American (New); Pubs',\n",
       " '8. The Crow,3.5 star rating,100 3rd St S,154,American (Traditional); Gastropubs',\n",
       " '9. Piggy’s Restaurant,4 star rating,501 Front St S,131,Steakhouses; Seafood; Sandwiches',\n",
       " '10. Schuby’s Neighborhood Butcher,4.5 star rating,321 State St,17,Butcher; Delis; Caterers']"
      ]
     },
     "execution_count": 66,
     "metadata": {},
     "output_type": "execute_result"
    }
   ],
   "source": [
    "joined = [\",\".join(line) for line in first_10]\n",
    "joined"
   ]
  },
  {
   "cell_type": "code",
   "execution_count": 68,
   "metadata": {},
   "outputs": [
    {
     "data": {
      "text/plain": [
       "'1. The Waterfront Restaurant & Tavern,4.5 star rating,328 Front St S,226,American (New); Seafood; Steakhouses\\n2. Buzzard Billy’s,4 star rating,222 Pearl St,276,American (Traditional); Cajun/Creole\\n3. Restore Public House,4.5 star rating,1810 State St,17,American (Traditional)\\n4. Lovechild Restaurant,4.5 star rating,300 3rd St S,109,American (New)\\n5. The Charmant,4.5 star rating,101 State St,149,French; Cocktail Bars\\n6. The Freighthouse Restaurant,4 star rating,107 Vine St,125,Seafood; Steakhouses; Desserts\\n7. Howie’s on La Crosse,4 star rating,1128 La Crosse St,57,American (New); Pubs\\n8. The Crow,3.5 star rating,100 3rd St S,154,American (Traditional); Gastropubs\\n9. Piggy’s Restaurant,4 star rating,501 Front St S,131,Steakhouses; Seafood; Sandwiches\\n10. Schuby’s Neighborhood Butcher,4.5 star rating,321 State St,17,Butcher; Delis; Caterers'"
      ]
     },
     "execution_count": 68,
     "metadata": {},
     "output_type": "execute_result"
    }
   ],
   "source": [
    "first_10 = '\\n'.join(joined)\n",
    "first_10"
   ]
  },
  {
   "cell_type": "code",
   "execution_count": 78,
   "metadata": {},
   "outputs": [
    {
     "data": {
      "text/plain": [
       "['11. Digger’s Sting Restaurant,4 star rating,122 3rd St N,62,American (New); Steakhouses\\n12. 4 Sisters Wine Bar and Tapas,3.5 star rating,100 Harborview Plz,111,Wine Bars; Tapas/Small Plates; Tapas Bars\\n13. Milwaukee Burger Company,3.5 star rating,3039 Medco Ct,23,Burgers; Sports Bars; Beer Bar\\n14. Uno Venti Pizzeria,4 star rating,120 King St,17,Pizza; Italian; Beer Bar\\n15. Five Star Eggrolls,3.5 star rating,1203 La Crosse St,9,Thai; Laotian; Chinese\\n16. River Rats Bar and Grill,4.5 star rating,1311 La Crescent Pl,28,American (New); Burgers; Cocktail Bars\\n17. Hmong’s Golden Egg Roll,4 star rating,901 State St,69,Laotian; Vietnamese; Thai\\n18. Señor Villa,4 star rating,325 West Ave N,69,Mexican\\n19. Burritos House,4.5 star rating,1205 La Crosse St,30,Mexican\\n20. Le Chateau,4.5 star rating,410 Cass St,51,French; Wine Bars; Cocktail Bars',\n",
       " '21. Iguana’s Mexican Street Café,4 star rating,1800 State St,71,Mexican\\n22. Hungry Peddler,4 star rating,3429 Mormon Coulee Rd,64,American (Traditional); Steakhouses; Seafood\\n23. Ciatti’s Italian Grill,4.5 star rating,2846 Midwest Dr,51,Seafood; Steakhouses; Italian\\n24. Huck Finn’s On the Water,3.5 star rating,129 Marina Dr,53,American (Traditional); Music Venues; Chicken Wings\\n25. Pickerman’s Soup & Sandwiches,4.5 star rating,327 Jay St,57,Sandwiches; Soup\\n26. Red Pines Bar & Grill,4.5 star rating,901 7th St S,88,American (Traditional); Seafood\\n27. Recovery Room,3.5 star rating,1004 La Crosse St,14,Sports Bars; American (Traditional)\\n28. Rudy’s Drive-In,4 star rating,115 3rd St,44,American (New)',\n",
       " '31. Greengrass Cafe,4 star rating,1904 Campbell Rd,96,Breakfast & Brunch; Bars\\n32. The Root Note,4.5 star rating,115 4th St S,80,Music Venues; Coffee & Tea; Creperies\\n33. Schmidty’s Bar & Restaurant,4 star rating,3119 State Rd,19,American (Traditional)\\n34. People’s Food Co-op,4.5 star rating,315 5th Ave S,31,Grocery; Delis\\n35. New Taste of India,4 star rating,1812 Jackson St,110,Indian\\n36. David Reay’s Modern Diner + Tavern,3.5 star rating,214 Main St,96,Diners; Bars\\n37. Il Luigi Italian Cuisine,4.5 star rating,235 Sand Lake Rd,3,Italian; Wine Bars\\n38. Pogreba Restaurant,4 star rating,1232 Avon St,48,American (Traditional); Seafood; Steakhouses\\n39. Timmers 10 Mile Pub,4.5 star rating,1217 Caledonia St,12,Pubs; American (Traditional)',\n",
       " '41. Fayze’s,3.5 star rating,135 S 4th St,129,Bakeries; American (Traditional); Pubs\\n42. Taste of Thai,4.5 star rating,205 S Holmen Dr,40,Thai\\n43. Rosie’s Cafe,4.5 star rating,2225 16th St S,56,Diners; Cafes; American (Traditional)\\n44. Sushi Pirate,3.5 star rating,200 Main St,60,Japanese; Sushi Bars\\n45. Pizza Ranch,5 star rating,3130 Chestnut Pl,3,Pizza; Chicken Shop; Buffets\\n46. North Country Steak Buffet,4 star rating,2526 Rose St,29,Buffets; Salad; Tacos\\n47. Big Boar Barbecue & Catering,4.5 star rating,510 Commerce Dr,47,Barbeque\\n48. Schmitty’s TimeOut Tavern,4.5 star rating,444 N Chestnut St,7,Chicken Wings; American (Traditional); Burgers\\n49. Shogun Sushi And Hibachi,3.5 star rating,1227 Crossing Meadows Dr,78,Japanese; Sushi Bars\\n50. Moxie’s,3.5 star rating,1835 Rose St,6,American (New); Tiki Bars',\n",
       " '51. Crooked Pint Ale House,3.5 star rating,9348 WI-16,23,Pubs; American (Traditional); Sports Bars\\n52. The Barrel Inn Bar & Grill,4 star rating,2005 West Ave S,5,Sports Bars; American (Traditional)\\n53. Houghton’s Jackson Street Pub,3.5 star rating,1002 Jackson St,32,American (Traditional); Irish Pub; Steakhouses\\n54. Famous Dave’s Bar-B-Que,4 star rating,3055 State Highway 16,34,Barbeque; American (Traditional); Comfort Food\\n55. Texas Roadhouse,3.5 star rating,4310 State Hwy 16,49,Barbeque; Steakhouses\\n56. Kaddy’s Kafe,4.5 star rating,236 E Main St,25,Breakfast & Brunch; Cafes\\n57. Eagle’s Nest Sports Bar & Grill,4 star rating,1914 Campbell Rd,16,Sports Bars; American (Traditional)\\n58. Huhot Mongolian Grill,4 star rating,5200 Mormon Coulee Rd,32,Chinese; Asian Fusion; Mongolian',\n",
       " '61. Press Break,4.5 star rating,146 Rose St,14,Sandwiches; Hot Dogs; Breakfast & Brunch\\n62. Pizza King - La Crosse,4.5 star rating,2929 South Ave,19,Pizza; Italian; Greek\\n63. Meringue Bakery & Cafe,5 star rating,313 Main St,4,Bakeries; Custom Cakes; Cafes\\n64. Three Rivers Lodge River View Restaurant and Bar,3 star rating,111 Front St S,30,Bars; American (New); Burgers\\n65. The Breakfast Club and Pub,3.5 star rating,214 Main St,110,American (Traditional); Breakfast & Brunch; Pubs\\n66. Tequila Mexican Restaurant,3 star rating,515 West Ave N,22,Mexican\\n67. Ye Old Style Inn,4 star rating,828 5th Ave S,5,Beer Bar; Breakfast & Brunch; Wraps\\n68. Bebo’s Dogs & Beef,5 star rating,101 3rd St S,2,Hot Dogs\\n69. Dim Sum Tea Shop,3.5 star rating,221 Pearl St,42,Dim Sum; Coffee & Tea\\n70. La Crosse Bierhaus,2.5 star rating,128 3rd St S,48,Bars; American (Traditional); Comfort Food',\n",
       " '71. Ardie’s Restaurant / Flipside Pub & Grill,3 star rating,400 Lang Dr,31,American (Traditional); Sports Bars; Pubs\\n72. The Driftless Axe,4.5 star rating,300 4th St S,2,Pizza; Axe Throwing; Beer Bar\\n73. Manny’s Mexican Cocina,3.5 star rating,301 Hampton Ct,102,Mexican\\n74. Polito’s Pizza,3.5 star rating,116 3rd St S,40,Pizza\\n75. Tom Sawyer’s Bar & Grill,3.5 star rating,136 Clinton St,27,Bars; Burgers; Mexican\\n76. Marco’s Pizza,4.5 star rating,3514 Mormon Coulee Rd,8,Pizza\\n77. Outback Steakhouse,3 star rating,311 Hampton Ct,41,Steakhouses\\n78. Rivoli Theatre & Pizzeria,4 star rating,117 4th St N,34,Cinema; Pizza\\n79. Arterial,3.5 star rating,1003 16th St S,17,Bars; American (Traditional)\\n80. Great Harvest Bread Company,4 star rating,58 Copeland Ave,9,Bakeries; Sandwiches',\n",
       " '81. La Crosse Family Restaurant,3.5 star rating,2120 Rose St,69,American (Traditional); Breakfast & Brunch\\n82. Angelini’s Ristorante,3 star rating,1427 State Hwy 35,42,Italian; Pizza\\n83. Fox Hollow Sports Bar,4.5 star rating,46 Main St,11,American (Traditional); Sports Bars\\n84. Free Range Exchange,5 star rating,2311 State Rd,5,Breakfast & Brunch; Sandwiches; Coffee & Tea\\n85. Alpine Inn,3.5 star rating,318 4th St S,21,Bars; Burgers; American (Traditional)\\n86. JavaVino,4 star rating,702 Main St,36,Wine Bars; Coffee & Tea; Breakfast & Brunch\\n87. Hunan Chinese Restaurant & Lounge,2.5 star rating,1123 3rd St S,30,Chinese']"
      ]
     },
     "execution_count": 78,
     "metadata": {},
     "output_type": "execute_result"
    }
   ],
   "source": [
    "the_rest = [web_scrape(page) for page in https]\n",
    "the_rest"
   ]
  },
  {
   "cell_type": "code",
   "execution_count": 81,
   "metadata": {},
   "outputs": [
    {
     "data": {
      "text/plain": [
       "'11. Digger’s Sting Restaurant,4 star rating,122 3rd St N,62,American (New); Steakhouses\\n12. 4 Sisters Wine Bar and Tapas,3.5 star rating,100 Harborview Plz,111,Wine Bars; Tapas/Small Plates; Tapas Bars\\n13. Milwaukee Burger Company,3.5 star rating,3039 Medco Ct,23,Burgers; Sports Bars; Beer Bar\\n14. Uno Venti Pizzeria,4 star rating,120 King St,17,Pizza; Italian; Beer Bar\\n15. Five Star Eggrolls,3.5 star rating,1203 La Crosse St,9,Thai; Laotian; Chinese\\n16. River Rats Bar and Grill,4.5 star rating,1311 La Crescent Pl,28,American (New); Burgers; Cocktail Bars\\n17. Hmong’s Golden Egg Roll,4 star rating,901 State St,69,Laotian; Vietnamese; Thai\\n18. Señor Villa,4 star rating,325 West Ave N,69,Mexican\\n19. Burritos House,4.5 star rating,1205 La Crosse St,30,Mexican\\n20. Le Chateau,4.5 star rating,410 Cass St,51,French; Wine Bars; Cocktail Bars\\n21. Iguana’s Mexican Street Café,4 star rating,1800 State St,71,Mexican\\n22. Hungry Peddler,4 star rating,3429 Mormon Coulee Rd,64,American (Traditional); Steakhouses; Seafood\\n23. Ciatti’s Italian Grill,4.5 star rating,2846 Midwest Dr,51,Seafood; Steakhouses; Italian\\n24. Huck Finn’s On the Water,3.5 star rating,129 Marina Dr,53,American (Traditional); Music Venues; Chicken Wings\\n25. Pickerman’s Soup & Sandwiches,4.5 star rating,327 Jay St,57,Sandwiches; Soup\\n26. Red Pines Bar & Grill,4.5 star rating,901 7th St S,88,American (Traditional); Seafood\\n27. Recovery Room,3.5 star rating,1004 La Crosse St,14,Sports Bars; American (Traditional)\\n28. Rudy’s Drive-In,4 star rating,115 3rd St,44,American (New)\\n31. Greengrass Cafe,4 star rating,1904 Campbell Rd,96,Breakfast & Brunch; Bars\\n32. The Root Note,4.5 star rating,115 4th St S,80,Music Venues; Coffee & Tea; Creperies\\n33. Schmidty’s Bar & Restaurant,4 star rating,3119 State Rd,19,American (Traditional)\\n34. People’s Food Co-op,4.5 star rating,315 5th Ave S,31,Grocery; Delis\\n35. New Taste of India,4 star rating,1812 Jackson St,110,Indian\\n36. David Reay’s Modern Diner + Tavern,3.5 star rating,214 Main St,96,Diners; Bars\\n37. Il Luigi Italian Cuisine,4.5 star rating,235 Sand Lake Rd,3,Italian; Wine Bars\\n38. Pogreba Restaurant,4 star rating,1232 Avon St,48,American (Traditional); Seafood; Steakhouses\\n39. Timmers 10 Mile Pub,4.5 star rating,1217 Caledonia St,12,Pubs; American (Traditional)\\n41. Fayze’s,3.5 star rating,135 S 4th St,129,Bakeries; American (Traditional); Pubs\\n42. Taste of Thai,4.5 star rating,205 S Holmen Dr,40,Thai\\n43. Rosie’s Cafe,4.5 star rating,2225 16th St S,56,Diners; Cafes; American (Traditional)\\n44. Sushi Pirate,3.5 star rating,200 Main St,60,Japanese; Sushi Bars\\n45. Pizza Ranch,5 star rating,3130 Chestnut Pl,3,Pizza; Chicken Shop; Buffets\\n46. North Country Steak Buffet,4 star rating,2526 Rose St,29,Buffets; Salad; Tacos\\n47. Big Boar Barbecue & Catering,4.5 star rating,510 Commerce Dr,47,Barbeque\\n48. Schmitty’s TimeOut Tavern,4.5 star rating,444 N Chestnut St,7,Chicken Wings; American (Traditional); Burgers\\n49. Shogun Sushi And Hibachi,3.5 star rating,1227 Crossing Meadows Dr,78,Japanese; Sushi Bars\\n50. Moxie’s,3.5 star rating,1835 Rose St,6,American (New); Tiki Bars\\n51. Crooked Pint Ale House,3.5 star rating,9348 WI-16,23,Pubs; American (Traditional); Sports Bars\\n52. The Barrel Inn Bar & Grill,4 star rating,2005 West Ave S,5,Sports Bars; American (Traditional)\\n53. Houghton’s Jackson Street Pub,3.5 star rating,1002 Jackson St,32,American (Traditional); Irish Pub; Steakhouses\\n54. Famous Dave’s Bar-B-Que,4 star rating,3055 State Highway 16,34,Barbeque; American (Traditional); Comfort Food\\n55. Texas Roadhouse,3.5 star rating,4310 State Hwy 16,49,Barbeque; Steakhouses\\n56. Kaddy’s Kafe,4.5 star rating,236 E Main St,25,Breakfast & Brunch; Cafes\\n57. Eagle’s Nest Sports Bar & Grill,4 star rating,1914 Campbell Rd,16,Sports Bars; American (Traditional)\\n58. Huhot Mongolian Grill,4 star rating,5200 Mormon Coulee Rd,32,Chinese; Asian Fusion; Mongolian\\n61. Press Break,4.5 star rating,146 Rose St,14,Sandwiches; Hot Dogs; Breakfast & Brunch\\n62. Pizza King - La Crosse,4.5 star rating,2929 South Ave,19,Pizza; Italian; Greek\\n63. Meringue Bakery & Cafe,5 star rating,313 Main St,4,Bakeries; Custom Cakes; Cafes\\n64. Three Rivers Lodge River View Restaurant and Bar,3 star rating,111 Front St S,30,Bars; American (New); Burgers\\n65. The Breakfast Club and Pub,3.5 star rating,214 Main St,110,American (Traditional); Breakfast & Brunch; Pubs\\n66. Tequila Mexican Restaurant,3 star rating,515 West Ave N,22,Mexican\\n67. Ye Old Style Inn,4 star rating,828 5th Ave S,5,Beer Bar; Breakfast & Brunch; Wraps\\n68. Bebo’s Dogs & Beef,5 star rating,101 3rd St S,2,Hot Dogs\\n69. Dim Sum Tea Shop,3.5 star rating,221 Pearl St,42,Dim Sum; Coffee & Tea\\n70. La Crosse Bierhaus,2.5 star rating,128 3rd St S,48,Bars; American (Traditional); Comfort Food\\n71. Ardie’s Restaurant / Flipside Pub & Grill,3 star rating,400 Lang Dr,31,American (Traditional); Sports Bars; Pubs\\n72. The Driftless Axe,4.5 star rating,300 4th St S,2,Pizza; Axe Throwing; Beer Bar\\n73. Manny’s Mexican Cocina,3.5 star rating,301 Hampton Ct,102,Mexican\\n74. Polito’s Pizza,3.5 star rating,116 3rd St S,40,Pizza\\n75. Tom Sawyer’s Bar & Grill,3.5 star rating,136 Clinton St,27,Bars; Burgers; Mexican\\n76. Marco’s Pizza,4.5 star rating,3514 Mormon Coulee Rd,8,Pizza\\n77. Outback Steakhouse,3 star rating,311 Hampton Ct,41,Steakhouses\\n78. Rivoli Theatre & Pizzeria,4 star rating,117 4th St N,34,Cinema; Pizza\\n79. Arterial,3.5 star rating,1003 16th St S,17,Bars; American (Traditional)\\n80. Great Harvest Bread Company,4 star rating,58 Copeland Ave,9,Bakeries; Sandwiches\\n81. La Crosse Family Restaurant,3.5 star rating,2120 Rose St,69,American (Traditional); Breakfast & Brunch\\n82. Angelini’s Ristorante,3 star rating,1427 State Hwy 35,42,Italian; Pizza\\n83. Fox Hollow Sports Bar,4.5 star rating,46 Main St,11,American (Traditional); Sports Bars\\n84. Free Range Exchange,5 star rating,2311 State Rd,5,Breakfast & Brunch; Sandwiches; Coffee & Tea\\n85. Alpine Inn,3.5 star rating,318 4th St S,21,Bars; Burgers; American (Traditional)\\n86. JavaVino,4 star rating,702 Main St,36,Wine Bars; Coffee & Tea; Breakfast & Brunch\\n87. Hunan Chinese Restaurant & Lounge,2.5 star rating,1123 3rd St S,30,Chinese'"
      ]
     },
     "execution_count": 81,
     "metadata": {},
     "output_type": "execute_result"
    }
   ],
   "source": [
    "the_Rest = \"\\n\".join(the_rest)\n",
    "the_Rest"
   ]
  },
  {
   "cell_type": "code",
   "execution_count": null,
   "metadata": {},
   "outputs": [],
   "source": []
  },
  {
   "cell_type": "code",
   "execution_count": 69,
   "metadata": {},
   "outputs": [],
   "source": [
    "with open('HW_5.csv','w') as outfile:\n",
    "    outfile.write(first_10)"
   ]
  },
  {
   "cell_type": "code",
   "execution_count": 83,
   "metadata": {},
   "outputs": [],
   "source": [
    "with open('HW_5.csv','a') as outfile:\n",
    "    outfile.write(the_Rest)"
   ]
  },
  {
   "cell_type": "markdown",
   "metadata": {},
   "source": [
    "## <font color=\"red\">  Bonus Problem </font>\n",
    "\n",
    "See if you can also grab the latitude and longitude of each result."
   ]
  },
  {
   "cell_type": "code",
   "execution_count": null,
   "metadata": {},
   "outputs": [],
   "source": []
  }
 ],
 "metadata": {
  "anaconda-cloud": {},
  "kernelspec": {
   "display_name": "Python 3",
   "language": "python",
   "name": "python3"
  },
  "language_info": {
   "codemirror_mode": {
    "name": "ipython",
    "version": 3
   },
   "file_extension": ".py",
   "mimetype": "text/x-python",
   "name": "python",
   "nbconvert_exporter": "python",
   "pygments_lexer": "ipython3",
   "version": "3.7.6"
  }
 },
 "nbformat": 4,
 "nbformat_minor": 1
}
