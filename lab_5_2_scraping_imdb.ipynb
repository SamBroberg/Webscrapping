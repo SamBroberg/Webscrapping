{
 "cells": [
  {
   "cell_type": "markdown",
   "metadata": {},
   "source": [
    "# Lab 5.2 -- Scraping IMBD\n",
    "\n",
    "Our goal is to scrap [IMDB](imdb.com) user reviews for *Borat Subsequent Moviefilm*.  Unfortunately, the page for user reviews only shows a limited number of reviews and you can't access additional pages through a link.  `selenium` to the rescue! In this lab, we will combine our two approaches to web scraping by\n",
    "\n",
    "1. Using `selenium` to load the page and click the *Load More* until we have all the reviews.\n",
    "2. Creating a `BeautifulSoup` instance for the complete page and parsing the results."
   ]
  },
  {
   "cell_type": "markdown",
   "metadata": {},
   "source": [
    "### Task 1 -- Load the reviews.\n",
    "\n",
    "Explore IMBD to find the web link for the user reviews for *Borat Subsequent Moviefilm* and load this page in Python with `selenium`."
   ]
  },
  {
   "cell_type": "code",
   "execution_count": 14,
   "metadata": {},
   "outputs": [],
   "source": [
    "from selenium import webdriver\n",
    "DRIVER_PATH ='/mnt/c/Users/pc7482yh/Downloads/chromedriver/chromedriver.exe'\n",
    "driver = webdriver.Chrome(executable_path=DRIVER_PATH)\n",
    "driver.get('https://www.imdb.com/title/tt13143964/reviews?ref_=tt_ov_rt')"
   ]
  },
  {
   "cell_type": "markdown",
   "metadata": {},
   "source": [
    "### Task 2 -- Figure out how to click the *Load More* button.\n",
    "\n",
    "To load all of the user reviews, we need to click the *Load More* button multiple times.  First, find the corresponding WebElement and verify that clicking this button loads another page of results."
   ]
  },
  {
   "cell_type": "code",
   "execution_count": 15,
   "metadata": {},
   "outputs": [
    {
     "data": {
      "text/plain": [
       "<selenium.webdriver.remote.webelement.WebElement (session=\"39fef586c637edcf887290c85a7d9e24\", element=\"a03566e2-5257-46ee-829f-50eba7af686f\")>"
      ]
     },
     "execution_count": 15,
     "metadata": {},
     "output_type": "execute_result"
    }
   ],
   "source": [
    "driver.find_element_by_id(\"load-more-trigger\")"
   ]
  },
  {
   "cell_type": "code",
   "execution_count": 16,
   "metadata": {},
   "outputs": [
    {
     "data": {
      "text/plain": [
       "<selenium.webdriver.remote.webelement.WebElement (session=\"39fef586c637edcf887290c85a7d9e24\", element=\"a03566e2-5257-46ee-829f-50eba7af686f\")>"
      ]
     },
     "execution_count": 16,
     "metadata": {},
     "output_type": "execute_result"
    }
   ],
   "source": [
    "driver.find_element_by_class_name(\"ipl-load-more__button\")"
   ]
  },
  {
   "cell_type": "code",
   "execution_count": 18,
   "metadata": {},
   "outputs": [],
   "source": [
    "load_button = driver.find_element_by_class_name(\"ipl-load-more__button\")"
   ]
  },
  {
   "cell_type": "code",
   "execution_count": 19,
   "metadata": {},
   "outputs": [],
   "source": [
    "load_button.click()"
   ]
  },
  {
   "cell_type": "markdown",
   "metadata": {},
   "source": [
    "### Task 3 -- Click *Load More* until you have all the results.\n",
    "\n",
    "Now you need to write code that will keep clicking the *Load More* button when you find it.  **Hint:** We can think of this as an example of an *unfold* process, meaning you should use a `while` loop combined with a [try-and-except statement](https://pythonbasics.org/try-except/) to keep trying to click the button.  To make sure you don't get an infinite loop, use a variable to identify and hold the stopping condition/state."
   ]
  },
  {
   "cell_type": "code",
   "execution_count": 60,
   "metadata": {},
   "outputs": [],
   "source": [
    "driver.get('https://www.imdb.com/title/tt13143964/reviews?ref_=tt_ov_rt')"
   ]
  },
  {
   "cell_type": "code",
   "execution_count": 44,
   "metadata": {},
   "outputs": [],
   "source": [
    "keep_running = True\n",
    "i=0"
   ]
  },
  {
   "cell_type": "code",
   "execution_count": 62,
   "metadata": {},
   "outputs": [],
   "source": [
    "load_button = driver.find_element_by_id(\"load-more-trigger\")\n",
    "while keep_running and i<1000:\n",
    "    try:\n",
    "        load_button.click()\n",
    "        i=i+1\n",
    "        print('click number {0}'.format(i))\n",
    "    except:\n",
    "        keep_running = False"
   ]
  },
  {
   "cell_type": "code",
   "execution_count": 63,
   "metadata": {},
   "outputs": [
    {
     "name": "stdout",
     "output_type": "stream",
     "text": [
      "Help on class By in module selenium.webdriver.common.by:\n",
      "\n",
      "class By(builtins.object)\n",
      " |  Set of supported locator strategies.\n",
      " |  \n",
      " |  Data descriptors defined here:\n",
      " |  \n",
      " |  __dict__\n",
      " |      dictionary for instance variables (if defined)\n",
      " |  \n",
      " |  __weakref__\n",
      " |      list of weak references to the object (if defined)\n",
      " |  \n",
      " |  ----------------------------------------------------------------------\n",
      " |  Data and other attributes defined here:\n",
      " |  \n",
      " |  CLASS_NAME = 'class name'\n",
      " |  \n",
      " |  CSS_SELECTOR = 'css selector'\n",
      " |  \n",
      " |  ID = 'id'\n",
      " |  \n",
      " |  LINK_TEXT = 'link text'\n",
      " |  \n",
      " |  NAME = 'name'\n",
      " |  \n",
      " |  PARTIAL_LINK_TEXT = 'partial link text'\n",
      " |  \n",
      " |  TAG_NAME = 'tag name'\n",
      " |  \n",
      " |  XPATH = 'xpath'\n",
      "\n"
     ]
    }
   ],
   "source": [
    "help(By)"
   ]
  },
  {
   "cell_type": "code",
   "execution_count": 66,
   "metadata": {},
   "outputs": [],
   "source": [
    "from selenium.webdriver.common.by import By\n",
    "from selenium.webdriver.support.ui import WebDriverWait\n",
    "from selenium.webdriver.support import expected_conditions as EC\n",
    "wait = WebDriverWait(driver, 15)\n",
    "driver.get('https://www.imdb.com/title/tt13143964/reviews?ref_=tt_ov_rt')\n",
    "load_more = wait.until(EC.element_to_be_clickable((By.ID,'load-more-trigger')))"
   ]
  },
  {
   "cell_type": "code",
   "execution_count": 67,
   "metadata": {},
   "outputs": [
    {
     "name": "stdout",
     "output_type": "stream",
     "text": [
      "click number 1\n",
      "click number 2\n",
      "click number 3\n",
      "click number 4\n",
      "click number 5\n",
      "click number 6\n",
      "click number 7\n",
      "click number 8\n",
      "click number 9\n",
      "click number 10\n",
      "click number 11\n",
      "click number 12\n",
      "click number 13\n",
      "click number 14\n",
      "click number 15\n",
      "click number 16\n",
      "click number 17\n",
      "click number 18\n",
      "click number 19\n",
      "click number 20\n",
      "click number 21\n",
      "click number 22\n",
      "click number 23\n",
      "click number 24\n",
      "click number 25\n",
      "click number 26\n",
      "click number 27\n",
      "click number 28\n",
      "click number 29\n",
      "click number 30\n",
      "click number 31\n",
      "click number 32\n",
      "click number 33\n",
      "click number 34\n",
      "click number 35\n",
      "click number 36\n",
      "click number 37\n"
     ]
    }
   ],
   "source": [
    "keep_running = True\n",
    "i=0\n",
    "while keep_running and i < 1000:\n",
    "    try:\n",
    "        load_more.click()\n",
    "        i=i+1\n",
    "        print('click number {0}'.format(i))\n",
    "        load_more = wait.until(EC.element_to_be_clickable((By.ID,'load-more-trigger')))\n",
    "    except:\n",
    "        keep_running = False\n"
   ]
  },
  {
   "cell_type": "code",
   "execution_count": null,
   "metadata": {},
   "outputs": [],
   "source": []
  },
  {
   "cell_type": "code",
   "execution_count": null,
   "metadata": {},
   "outputs": [],
   "source": []
  },
  {
   "cell_type": "markdown",
   "metadata": {},
   "source": [
    "### Task 4 -- Load the results in a `BeautifulSoup` object.\n",
    "\n",
    "Since `bs4` has better tools for parsing html, we will now switch to using this module to parse the results.  Recall that you can access the content of the current content from the `selenium` driver using `driver.page_source`.  You can use this attribute to make a `soup` object for the page using \n",
    "\n",
    "> soup = BeautifulSoup(driver.page_source, 'html.parser')"
   ]
  },
  {
   "cell_type": "code",
   "execution_count": 1,
   "metadata": {},
   "outputs": [],
   "source": [
    "# Your code here"
   ]
  },
  {
   "cell_type": "markdown",
   "metadata": {},
   "source": [
    "### Task 5 -- Extract the information\n",
    "\n",
    "Now extract the following data to a csv file.\n",
    "\n",
    "1. Title\n",
    "2. Score\n",
    "3. User\n",
    "4. Date\n",
    "5. Text (replace commas with semi-colons!)\n",
    "6. Two columns for X and Y, where `\"X out of Y found this helpful\"`\n",
    "7. Permanent link the the review.\n"
   ]
  },
  {
   "cell_type": "code",
   "execution_count": 1,
   "metadata": {},
   "outputs": [],
   "source": [
    "# Your code here"
   ]
  }
 ],
 "metadata": {
  "kernelspec": {
   "display_name": "Python 3",
   "language": "python",
   "name": "python3"
  },
  "language_info": {
   "codemirror_mode": {
    "name": "ipython",
    "version": 3
   },
   "file_extension": ".py",
   "mimetype": "text/x-python",
   "name": "python",
   "nbconvert_exporter": "python",
   "pygments_lexer": "ipython3",
   "version": "3.7.6"
  }
 },
 "nbformat": 4,
 "nbformat_minor": 2
}
